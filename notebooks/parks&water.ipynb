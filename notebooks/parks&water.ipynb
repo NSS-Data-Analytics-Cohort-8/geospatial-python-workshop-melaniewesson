{
 "cells": [
  {
   "cell_type": "code",
   "execution_count": 2,
   "metadata": {},
   "outputs": [],
   "source": [
    "from shapely.geometry import Point\n",
    "import pandas as pd\n",
    "import geopandas as gpd\n",
    "import matplotlib.pyplot as plt\n",
    "import folium\n",
    "from folium.plugins import MarkerCluster\n",
    "from folium.plugins import FastMarkerCluster"
   ]
  },
  {
   "cell_type": "code",
   "execution_count": 3,
   "metadata": {},
   "outputs": [
    {
     "name": "stdout",
     "output_type": "stream",
     "text": [
      "EPSG:4326\n"
     ]
    },
    {
     "data": {
      "text/html": [
       "<div>\n",
       "<style scoped>\n",
       "    .dataframe tbody tr th:only-of-type {\n",
       "        vertical-align: middle;\n",
       "    }\n",
       "\n",
       "    .dataframe tbody tr th {\n",
       "        vertical-align: top;\n",
       "    }\n",
       "\n",
       "    .dataframe thead th {\n",
       "        text-align: right;\n",
       "    }\n",
       "</style>\n",
       "<table border=\"1\" class=\"dataframe\">\n",
       "  <thead>\n",
       "    <tr style=\"text-align: right;\">\n",
       "      <th></th>\n",
       "      <th>name</th>\n",
       "      <th>location</th>\n",
       "      <th>dog</th>\n",
       "      <th>objectid</th>\n",
       "      <th>lon</th>\n",
       "      <th>ada</th>\n",
       "      <th>cnt</th>\n",
       "      <th>lat</th>\n",
       "      <th>feat_type</th>\n",
       "      <th>geometry</th>\n",
       "    </tr>\n",
       "  </thead>\n",
       "  <tbody>\n",
       "    <tr>\n",
       "      <th>0</th>\n",
       "      <td>Beaman Water Fountain</td>\n",
       "      <td>NaN</td>\n",
       "      <td>Y</td>\n",
       "      <td>45921</td>\n",
       "      <td>36.26250456</td>\n",
       "      <td>Y</td>\n",
       "      <td>1</td>\n",
       "      <td>-86.89425346</td>\n",
       "      <td>Fountain/Bottle filler/ADA</td>\n",
       "      <td>POINT (-86.89425 36.26250)</td>\n",
       "    </tr>\n",
       "    <tr>\n",
       "      <th>1</th>\n",
       "      <td>Edwin Nature Center Water Fountain</td>\n",
       "      <td>Restrooms Breezeway</td>\n",
       "      <td>N</td>\n",
       "      <td>45937</td>\n",
       "      <td>36.06089915</td>\n",
       "      <td>Y</td>\n",
       "      <td>1</td>\n",
       "      <td>-86.90622747</td>\n",
       "      <td>Bottle Filler/ADA</td>\n",
       "      <td>POINT (-86.90623 36.06090)</td>\n",
       "    </tr>\n",
       "    <tr>\n",
       "      <th>2</th>\n",
       "      <td>Percy Warner Belle Meade Gates Water Fountain</td>\n",
       "      <td>Belle Meade Gates</td>\n",
       "      <td>Y</td>\n",
       "      <td>45964</td>\n",
       "      <td>36.08310102</td>\n",
       "      <td>Y</td>\n",
       "      <td>1</td>\n",
       "      <td>-86.86727566</td>\n",
       "      <td>ADA Bowl</td>\n",
       "      <td>POINT (-86.86728 36.08310)</td>\n",
       "    </tr>\n",
       "    <tr>\n",
       "      <th>3</th>\n",
       "      <td>West Park Water Fountain</td>\n",
       "      <td>Ballfield</td>\n",
       "      <td>N</td>\n",
       "      <td>45992</td>\n",
       "      <td>36.16179583</td>\n",
       "      <td>N</td>\n",
       "      <td>1</td>\n",
       "      <td>-86.86378994</td>\n",
       "      <td>Single with foot pedal</td>\n",
       "      <td>POINT (-86.86379 36.16180)</td>\n",
       "    </tr>\n",
       "    <tr>\n",
       "      <th>4</th>\n",
       "      <td>Richland Park Water Fountain</td>\n",
       "      <td>Playground</td>\n",
       "      <td>N</td>\n",
       "      <td>46012</td>\n",
       "      <td>36.15139384</td>\n",
       "      <td>N</td>\n",
       "      <td>1</td>\n",
       "      <td>-86.84589094</td>\n",
       "      <td>Single with foot pedal</td>\n",
       "      <td>POINT (-86.84589 36.15139)</td>\n",
       "    </tr>\n",
       "  </tbody>\n",
       "</table>\n",
       "</div>"
      ],
      "text/plain": [
       "                                            name             location dog   \n",
       "0                          Beaman Water Fountain                  NaN   Y  \\\n",
       "1             Edwin Nature Center Water Fountain  Restrooms Breezeway   N   \n",
       "2  Percy Warner Belle Meade Gates Water Fountain    Belle Meade Gates   Y   \n",
       "3                       West Park Water Fountain            Ballfield   N   \n",
       "4                   Richland Park Water Fountain           Playground   N   \n",
       "\n",
       "  objectid          lon ada cnt           lat                   feat_type   \n",
       "0    45921  36.26250456   Y   1  -86.89425346  Fountain/Bottle filler/ADA  \\\n",
       "1    45937  36.06089915   Y   1  -86.90622747           Bottle Filler/ADA   \n",
       "2    45964  36.08310102   Y   1  -86.86727566                    ADA Bowl   \n",
       "3    45992  36.16179583   N   1  -86.86378994      Single with foot pedal   \n",
       "4    46012  36.15139384   N   1  -86.84589094      Single with foot pedal   \n",
       "\n",
       "                     geometry  \n",
       "0  POINT (-86.89425 36.26250)  \n",
       "1  POINT (-86.90623 36.06090)  \n",
       "2  POINT (-86.86728 36.08310)  \n",
       "3  POINT (-86.86379 36.16180)  \n",
       "4  POINT (-86.84589 36.15139)  "
      ]
     },
     "execution_count": 3,
     "metadata": {},
     "output_type": "execute_result"
    }
   ],
   "source": [
    "water = gpd.read_file(r'C:\\Users\\melan\\Documents\\DA8\\Projects\\geospatial-python-workshop-melaniewesson\\data\\public_water.geojson')\n",
    "print(water.crs)\n",
    "water.head()"
   ]
  },
  {
   "cell_type": "code",
   "execution_count": 4,
   "metadata": {},
   "outputs": [
    {
     "data": {
      "text/plain": [
       "geopandas.geodataframe.GeoDataFrame"
      ]
     },
     "execution_count": 4,
     "metadata": {},
     "output_type": "execute_result"
    }
   ],
   "source": [
    "type(water)"
   ]
  },
  {
   "cell_type": "code",
   "execution_count": 5,
   "metadata": {},
   "outputs": [
    {
     "data": {
      "image/svg+xml": [
       "<svg xmlns=\"http://www.w3.org/2000/svg\" xmlns:xlink=\"http://www.w3.org/1999/xlink\" width=\"100.0\" height=\"100.0\" viewBox=\"-87.89425345576078 35.26250455840148 2.0 2.0\" preserveAspectRatio=\"xMinYMin meet\"><g transform=\"matrix(1,0,0,-1,0,72.52500911680296)\"><circle cx=\"-86.89425345576078\" cy=\"36.26250455840148\" r=\"0.06\" stroke=\"#555555\" stroke-width=\"0.02\" fill=\"#66cc99\" opacity=\"0.6\" /></g></svg>"
      ],
      "text/plain": [
       "<POINT (-86.894 36.263)>"
      ]
     },
     "execution_count": 5,
     "metadata": {},
     "output_type": "execute_result"
    }
   ],
   "source": [
    "water.loc[0, 'geometry']"
   ]
  },
  {
   "cell_type": "code",
   "execution_count": 6,
   "metadata": {},
   "outputs": [
    {
     "name": "stdout",
     "output_type": "stream",
     "text": [
      "POINT (-86.89425345576078 36.26250455840148)\n"
     ]
    }
   ],
   "source": [
    "print(water.loc[0, 'geometry'])"
   ]
  },
  {
   "cell_type": "code",
   "execution_count": 7,
   "metadata": {},
   "outputs": [
    {
     "data": {
      "text/plain": [
       "<Axes: >"
      ]
     },
     "execution_count": 7,
     "metadata": {},
     "output_type": "execute_result"
    },
    {
     "data": {
      "image/png": "[encoded data removed]",
      "text/plain": [
       "<Figure size 640x480 with 1 Axes>"
      ]
     },
     "metadata": {},
     "output_type": "display_data"
    }
   ],
   "source": [
    "water.plot()"
   ]
  },
  {
   "cell_type": "code",
   "execution_count": 10,
   "metadata": {},
   "outputs": [
    {
     "data": {
      "image/png": "[encoded data removed]",
      "text/plain": [
       "<Figure size 1000x1000 with 1 Axes>"
      ]
     },
     "metadata": {},
     "output_type": "display_data"
    }
   ],
   "source": [
    "water.plot(column = 'name', figsize=(10,10),)\n",
    "edgecolor = 'black', \n",
    "legend = False\n",
    "cmap = 'Set2'\n",
    "plt.show()"
   ]
  },
  {
   "cell_type": "code",
   "execution_count": 13,
   "metadata": {},
   "outputs": [
    {
     "name": "stdout",
     "output_type": "stream",
     "text": [
      "(287, 10)\n"
     ]
    },
    {
     "data": {
      "text/html": [
       "<div>\n",
       "<style scoped>\n",
       "    .dataframe tbody tr th:only-of-type {\n",
       "        vertical-align: middle;\n",
       "    }\n",
       "\n",
       "    .dataframe tbody tr th {\n",
       "        vertical-align: top;\n",
       "    }\n",
       "\n",
       "    .dataframe thead th {\n",
       "        text-align: right;\n",
       "    }\n",
       "</style>\n",
       "<table border=\"1\" class=\"dataframe\">\n",
       "  <thead>\n",
       "    <tr style=\"text-align: right;\">\n",
       "      <th></th>\n",
       "      <th>acres</th>\n",
       "      <th>name</th>\n",
       "      <th>year_estab</th>\n",
       "      <th>common_nam</th>\n",
       "      <th>status</th>\n",
       "      <th>address</th>\n",
       "      <th>lon</th>\n",
       "      <th>lat</th>\n",
       "      <th>descriptio</th>\n",
       "      <th>geometry</th>\n",
       "    </tr>\n",
       "  </thead>\n",
       "  <tbody>\n",
       "    <tr>\n",
       "      <th>0</th>\n",
       "      <td>69.86</td>\n",
       "      <td>Harpeth River Park</td>\n",
       "      <td>1988</td>\n",
       "      <td>Harpeth River</td>\n",
       "      <td>PARK</td>\n",
       "      <td>7820 Coley Davis Rd</td>\n",
       "      <td>-86.9592214</td>\n",
       "      <td>36.07738249</td>\n",
       "      <td>Harpeth River State Park has much historical a...</td>\n",
       "      <td>MULTIPOLYGON (((-86.95547 36.07930, -86.95578 ...</td>\n",
       "    </tr>\n",
       "    <tr>\n",
       "      <th>1</th>\n",
       "      <td>9.88</td>\n",
       "      <td>Harpeth Knoll Park</td>\n",
       "      <td>1972</td>\n",
       "      <td>Harpeth Knoll</td>\n",
       "      <td>PARK</td>\n",
       "      <td>708 Goodpasture Terrace</td>\n",
       "      <td>-86.93815537</td>\n",
       "      <td>36.05942777</td>\n",
       "      <td>Huge grassy field with playground, and shade s...</td>\n",
       "      <td>MULTIPOLYGON (((-86.93860 36.06077, -86.93742 ...</td>\n",
       "    </tr>\n",
       "    <tr>\n",
       "      <th>2</th>\n",
       "      <td>17.14</td>\n",
       "      <td>Bellevue Park</td>\n",
       "      <td>1982</td>\n",
       "      <td>Red Caboose</td>\n",
       "      <td>PARK</td>\n",
       "      <td>656 Colice Jeanne Rd</td>\n",
       "      <td>-86.93354496</td>\n",
       "      <td>36.07159731</td>\n",
       "      <td>Bellevue Park, known as Red Caboose Park, is p...</td>\n",
       "      <td>MULTIPOLYGON (((-86.93207 36.06954, -86.93283 ...</td>\n",
       "    </tr>\n",
       "    <tr>\n",
       "      <th>3</th>\n",
       "      <td>809.59</td>\n",
       "      <td>Bells Bend Park</td>\n",
       "      <td>2007</td>\n",
       "      <td>Bells Bend</td>\n",
       "      <td>PARK</td>\n",
       "      <td>4187 Old Hickory Blvd</td>\n",
       "      <td>-86.92646294</td>\n",
       "      <td>36.15016925</td>\n",
       "      <td>Located in western Davidson County, this park ...</td>\n",
       "      <td>MULTIPOLYGON (((-86.93987 36.16093, -86.93495 ...</td>\n",
       "    </tr>\n",
       "    <tr>\n",
       "      <th>4</th>\n",
       "      <td>2168.792</td>\n",
       "      <td>Alvin G. Beaman Park</td>\n",
       "      <td>1996</td>\n",
       "      <td>Beaman</td>\n",
       "      <td>PARK</td>\n",
       "      <td>5911 Old Hickory Blvd.</td>\n",
       "      <td>-86.91984207</td>\n",
       "      <td>36.26075833</td>\n",
       "      <td>Beaman Park provides education and awareness p...</td>\n",
       "      <td>MULTIPOLYGON (((-86.90367 36.27352, -86.90364 ...</td>\n",
       "    </tr>\n",
       "  </tbody>\n",
       "</table>\n",
       "</div>"
      ],
      "text/plain": [
       "      acres                  name year_estab     common_nam status   \n",
       "0     69.86    Harpeth River Park       1988  Harpeth River   PARK  \\\n",
       "1      9.88    Harpeth Knoll Park       1972  Harpeth Knoll   PARK   \n",
       "2     17.14         Bellevue Park       1982    Red Caboose   PARK   \n",
       "3    809.59       Bells Bend Park       2007     Bells Bend   PARK   \n",
       "4  2168.792  Alvin G. Beaman Park       1996         Beaman   PARK   \n",
       "\n",
       "                   address           lon          lat   \n",
       "0      7820 Coley Davis Rd   -86.9592214  36.07738249  \\\n",
       "1  708 Goodpasture Terrace  -86.93815537  36.05942777   \n",
       "2     656 Colice Jeanne Rd  -86.93354496  36.07159731   \n",
       "3    4187 Old Hickory Blvd  -86.92646294  36.15016925   \n",
       "4   5911 Old Hickory Blvd.  -86.91984207  36.26075833   \n",
       "\n",
       "                                          descriptio   \n",
       "0  Harpeth River State Park has much historical a...  \\\n",
       "1  Huge grassy field with playground, and shade s...   \n",
       "2  Bellevue Park, known as Red Caboose Park, is p...   \n",
       "3  Located in western Davidson County, this park ...   \n",
       "4  Beaman Park provides education and awareness p...   \n",
       "\n",
       "                                            geometry  \n",
       "0  MULTIPOLYGON (((-86.95547 36.07930, -86.95578 ...  \n",
       "1  MULTIPOLYGON (((-86.93860 36.06077, -86.93742 ...  \n",
       "2  MULTIPOLYGON (((-86.93207 36.06954, -86.93283 ...  \n",
       "3  MULTIPOLYGON (((-86.93987 36.16093, -86.93495 ...  \n",
       "4  MULTIPOLYGON (((-86.90367 36.27352, -86.90364 ...  "
      ]
     },
     "execution_count": 13,
     "metadata": {},
     "output_type": "execute_result"
    }
   ],
   "source": [
    "parks = gpd.read_file(r'C:\\Users\\melan\\Documents\\DA8\\Projects\\geospatial-python-workshop-melaniewesson\\data\\metro_parks.geojson')\n",
    "print(parks.shape)\n",
    "parks.head()"
   ]
  },
  {
   "cell_type": "code",
   "execution_count": 14,
   "metadata": {},
   "outputs": [
    {
     "data": {
      "text/plain": [
       "geopandas.geodataframe.GeoDataFrame"
      ]
     },
     "execution_count": 14,
     "metadata": {},
     "output_type": "execute_result"
    }
   ],
   "source": [
    "type(parks)"
   ]
  },
  {
   "cell_type": "code",
   "execution_count": 15,
   "metadata": {},
   "outputs": [
    {
     "data": {
      "image/svg+xml": [
       "<svg xmlns=\"http://www.w3.org/2000/svg\" xmlns:xlink=\"http://www.w3.org/1999/xlink\" width=\"100.0\" height=\"100.0\" viewBox=\"-86.96565864630344 36.072951815661376 0.014724513546880758 0.007378496693945635\" preserveAspectRatio=\"xMinYMin meet\"><g transform=\"matrix(1,0,0,-1,0,72.1532821280167)\"><g><path fill-rule=\"evenodd\" fill=\"#66cc99\" stroke=\"#555555\" stroke-width=\"0.0002944902709376151\" opacity=\"0.6\" d=\"M -86.9554652476398,36.079301455798536 L -86.95577768867267,36.079139093437696 L -86.95554165522448,36.07881679726515 L -86.95555002481612,36.078763362963265 L -86.95547131924887,36.078720729617956 L -86.95532248405858,36.07851744306786 L -86.95528618171004,36.07845372197693 L -86.95525327758185,36.078391071735794 L -86.95523923349029,36.07834887403824 L -86.95522977080738,36.07832175489392 L -86.95522131619775,36.078294075262384 L -86.95521421491281,36.078266384907266 L -86.9552084636451,36.07823840895774 L -86.95520406570714,36.07821042318611 L -86.95520101888307,36.0781821509104 L -86.9551993253869,36.078153868812706 L -86.95519898519579,36.078125575091285 L -86.95519999833,36.07809727154806 L -86.95520236476608,36.078068956381045 L -86.9552057503346,36.078040908937375 L -86.955210827808,36.0780128471868 L -86.9550086936845,36.07817351059672 L -86.95500864747362,36.07817345327956 L -86.95499806745696,36.07816107206578 L -86.9549716235682,36.078130121682676 L -86.95500338104712,36.078033221562436 L -86.95506008942512,36.07786019964115 L -86.95503597573529,36.077655998187424 L -86.95502176365142,36.07752942922687 L -86.95501930046494,36.077507510231854 L -86.95497414799489,36.077397754136314 L -86.95487567740793,36.07715838265404 L -86.954855900453,36.07711337110533 L -86.95479773802765,36.07698098278918 L -86.95446097491786,36.0762166371761 L -86.95432255565275,36.075947934835995 L -86.95426139788222,36.075829216562255 L -86.95412593092155,36.075595130254584 L -86.95321095830892,36.07605290574495 L -86.95246186484025,36.07657309595996 L -86.95233958566739,36.076705997505464 L -86.95212780854361,36.07693616681101 L -86.95212778278197,36.076936134963965 L -86.9519116950862,36.07667414437118 L -86.95147948511014,36.076150095890604 L -86.95265459850435,36.07593862544561 L -86.95337655005882,36.075187883195944 L -86.95415736971013,36.07415535920362 L -86.95400335317387,36.07395438567221 L -86.9539480086185,36.07388257279686 L -86.95423597974009,36.073712990363525 L -86.95460427106983,36.07349716801497 L -86.95470543382183,36.07369279031701 L -86.95477516692017,36.073863662116366 L -86.95487864180328,36.074026574502 L -86.95519818472926,36.07448447043898 L -86.95533844589661,36.074666870632896 L -86.95548652467536,36.07482393464099 L -86.95565317740225,36.07506216775781 L -86.95574477035935,36.07519330610828 L -86.9558005518829,36.07527308153991 L -86.95607907086857,36.07561152351611 L -86.95621422792132,36.07553820121334 L -86.95633593908327,36.07547240225207 L -86.9561780992548,36.075263494525394 L -86.95604365828585,36.075059071582665 L -86.95604055694916,36.07505442381768 L -86.95627710331861,36.074942110863276 L -86.95627738318926,36.074942487190945 L -86.95631365573124,36.07499116279827 L -86.9565756605296,36.07534275670214 L -86.95660524807738,36.075382904850365 L -86.95663551063365,36.07542304853622 L -86.95666610850478,36.07546291465543 L -86.95669670420781,36.0755025058863 L -86.95672797160076,36.075541816880914 L -86.95675991732564,36.0755811224839 L -86.95679185867215,36.07562015411654 L -86.95682447393028,36.07565890549405 L -86.95685708921128,36.07569765596117 L -86.95689037510412,36.07573585220227 L -86.95692399963666,36.075774046647325 L -86.95695795836563,36.07581196263093 L -86.95699225241243,36.07584960104541 L -86.9570272225857,36.07588723498394 L -86.95706218727831,36.07592431916014 L -86.95709782809004,36.0759613979585 L -86.95713346673227,36.07599820186572 L -86.95716977818013,36.07603472552263 L -86.95720642383557,36.07607097161739 L -86.95724340924565,36.0761072159042 L -86.95728072555035,36.076142907757074 L -86.95731838048904,36.07617859690891 L -86.95735636743352,36.076213733617166 L -86.95739469300861,36.0762488676241 L -86.95743335280518,36.07628372496802 L -86.95747268651046,36.07631830114838 L -86.95751201694657,36.07635260334531 L -86.95755168270234,36.076386627968425 L -86.95759168378869,36.07642037591825 L -86.95763235767299,36.07645384271166 L -86.9576730282888,36.07648703552062 L -86.95771403752708,36.07652022472475 L -86.95775537878252,36.07655286238311 L -86.95779739396794,36.076585220676535 L -86.95783940475282,36.07661730319111 L -86.95788175418211,36.07664938390189 L -86.95792443561716,36.07668091216435 L -86.95796745237153,36.0767121628494 L -86.95801080444568,36.07674313595685 L -86.95805449183902,36.07677383148619 L -86.95809817816638,36.07680452790976 L -86.9581425350998,36.076834669191996 L -86.95818722735167,36.076864532895456 L -86.9582319163219,36.076894121710815 L -86.95827694061076,36.07692343294633 L -86.95832263440413,36.076952189949075 L -86.95836832823139,36.076980946934306 L -86.95841435737545,36.07700942633901 L -86.95846037993346,36.07703735688433 L -86.95850707971499,36.07706528112656 L -86.95855377290624,36.07709265650898 L -86.95860113890843,36.07711975162594 L -86.95864850162499,36.07714657185295 L -86.95869619966946,36.07717311539818 L -86.95874389442903,36.07719938405329 L -86.95879226309494,36.07722537153078 L -86.95884062518178,36.07725081104878 L -86.95888932477925,36.077276246961496 L -86.9589383574957,36.07730113131091 L -86.95898738580587,36.07732573987657 L -86.96003623108817,36.076745978836286 L -86.9615287646753,36.075918720727095 L -86.9624874062775,36.07705829332496 L -86.96317814916253,36.07641982662808 L -86.96320022580205,36.07639849662891 L -86.96322229910675,36.076376892655354 L -86.96324369519434,36.07635529318742 L -86.96326508794715,36.07633341974553 L -86.96328613986725,36.076311274125274 L -86.9633071906654,36.076289128510076 L -86.96332756203174,36.076266713422484 L -86.96334793005562,36.076244023459815 L -86.96336795947909,36.07622133710078 L -86.96338765028499,36.076198652542885 L -86.96340699693503,36.076175421837554 L -86.96342600718785,36.076152467813614 L -86.96344501188536,36.07612896493667 L -86.96346367797369,36.076105464762584 L -86.96348200545357,36.076081967291536 L -86.96349998765766,36.07605792278123 L -86.96351763460004,36.07603415674692 L -86.9635349406995,36.07601011763471 L -86.96355190486757,36.075985807256224 L -86.96356886901665,36.07596149597417 L -86.96358549123403,36.075936913425856 L -86.96360143625004,36.07591233628786 L -86.96361737901927,36.0758874833663 L -86.96363298208531,36.07586263405927 L -86.96364824765351,36.07583778744777 L -86.96366317129319,36.07581266957074 L -86.96367809158026,36.07578727591915 L -86.96369233577478,36.07576188767022 L -86.96370624026521,36.07573650303618 L -86.9637201425109,36.07571084261925 L -86.9637333675676,36.07568518851522 L -86.96374658927265,36.075659258637145 L -86.96375947571754,36.07563360723695 L -86.96377201688995,36.075607408799556 L -86.96378388197414,36.075581215765766 L -86.96379574704928,36.07555502273058 L -86.96380727352265,36.07552883240117 L -86.96381845806047,36.07550236990641 L -86.96382930510521,36.07547591010851 L -86.96383981243791,36.075449453025385 L -86.96384997894465,36.0754227237684 L -86.96385980686122,36.07539599811852 L -86.96386963476024,36.07536927156676 L -86.9638787832507,36.0753422764493 L -86.96388759201993,36.07531528314599 L -86.96389605997545,36.07528801857025 L -86.96390418933144,36.075260756701134 L -86.96391164259386,36.07523349933565 L -86.963919094752,36.07520624287973 L -86.96392620608677,36.07517871425026 L -86.96393297771328,36.07515118833648 L -86.96393941185207,36.07512366512076 L -86.96394550850216,36.075096144602995 L -86.96395126211253,36.07506835192988 L -86.96395668157005,36.07504083682609 L -86.963961757986,36.075013049566955 L -86.96396649691565,36.07498526500583 L -86.96397089836005,36.07495748314327 L -86.96397495677347,36.074929430026316 L -86.96397868102838,36.07490165357791 L -86.96398206557747,36.074873879845796 L -86.96398510930703,36.07484583394042 L -86.96398781556395,36.07481779163492 L -86.96399018544106,36.074790026015506 L -86.9639925519814,36.074761985524695 L -86.96399424245838,36.074733951341045 L -86.96399559433168,36.074705918963446 L -86.96399660761273,36.074677889293255 L -86.96399728342297,36.07464986322281 L -86.96399761952085,36.07462183896733 L -86.96399761813791,36.074593817410474 L -86.96399727817497,36.074565799462185 L -86.96399693820133,36.07453778061235 L -86.96399592215722,36.07450976716877 L -86.9639945664239,36.07448175734242 L -86.96399287320061,36.07445374931357 L -86.96399084138818,36.07442574399199 L -86.9639884709985,36.07439774227881 L -86.96398576311931,36.07436974236281 L -86.96398305413216,36.07434174245554 L -86.96397967241262,36.07431402282551 L -86.9639759487819,36.07428603193267 L -86.96397188988713,36.07425831771706 L -86.96396748907343,36.07423033133723 L -86.96396309270663,36.07420261981958 L -86.96395801916478,36.07417491371634 L -86.96395260704844,36.07414721122146 L -86.96394685633602,36.074119510532555 L -86.9639411089627,36.07409208471431 L -86.96393468218982,36.074064389430255 L -86.96404451133525,36.074051972668684 L -86.96405904065217,36.07405020799003 L -86.96422435275063,36.07403652355398 L -86.96435814937469,36.074019245138416 L -86.96454296943955,36.073995789084485 L -86.96466563763092,36.074511277829004 L -86.96467383658228,36.074545551937774 L -86.9650989847258,36.0763099610576 L -86.96511329394986,36.07637358135602 L -86.96246189012689,36.077633757098496 L -86.96213449689778,36.077789388391395 L -86.95813332497777,36.07969070920494 L -86.95607889473706,36.07928065675595 L -86.95456340946807,36.07978496000173 L -86.95493766552086,36.079584473803166 L -86.95511991436892,36.07948660419003 L -86.95546121295207,36.07930368515166 L -86.9554652476398,36.079301455798536 z\" /></g></g></svg>"
      ],
      "text/plain": [
       "<MULTIPOLYGON (((-86.955 36.079, -86.956 36.079, -86.956 36.079, -86.956 36....>"
      ]
     },
     "execution_count": 15,
     "metadata": {},
     "output_type": "execute_result"
    }
   ],
   "source": [
    "parks.loc[0, 'geometry']"
   ]
  },
  {
   "cell_type": "code",
   "execution_count": 16,
   "metadata": {},
   "outputs": [
    {
     "name": "stdout",
     "output_type": "stream",
     "text": [
      "MULTIPOLYGON (((-86.9554652476398 36.079301455798536, -86.95577768867267 36.079139093437696, -86.95554165522448 36.07881679726515, -86.95555002481612 36.078763362963265, -86.95547131924887 36.078720729617956, -86.95532248405858 36.07851744306786, -86.95528618171004 36.07845372197693, -86.95525327758185 36.078391071735794, -86.95523923349029 36.07834887403824, -86.95522977080738 36.07832175489392, -86.95522131619775 36.078294075262384, -86.95521421491281 36.078266384907266, -86.9552084636451 36.07823840895774, -86.95520406570714 36.07821042318611, -86.95520101888307 36.0781821509104, -86.9551993253869 36.078153868812706, -86.95519898519579 36.078125575091285, -86.95519999833 36.07809727154806, -86.95520236476608 36.078068956381045, -86.9552057503346 36.078040908937375, -86.955210827808 36.0780128471868, -86.9550086936845 36.07817351059672, -86.95500864747362 36.07817345327956, -86.95499806745696 36.07816107206578, -86.9549716235682 36.078130121682676, -86.95500338104712 36.078033221562436, -86.95506008942512 36.07786019964115, -86.95503597573529 36.077655998187424, -86.95502176365142 36.07752942922687, -86.95501930046494 36.077507510231854, -86.95497414799489 36.077397754136314, -86.95487567740793 36.07715838265404, -86.954855900453 36.07711337110533, -86.95479773802765 36.07698098278918, -86.95446097491786 36.0762166371761, -86.95432255565275 36.075947934835995, -86.95426139788222 36.075829216562255, -86.95412593092155 36.075595130254584, -86.95321095830892 36.07605290574495, -86.95246186484025 36.07657309595996, -86.95233958566739 36.076705997505464, -86.95212780854361 36.07693616681101, -86.95212778278197 36.076936134963965, -86.9519116950862 36.07667414437118, -86.95147948511014 36.076150095890604, -86.95265459850435 36.07593862544561, -86.95337655005882 36.075187883195944, -86.95415736971013 36.07415535920362, -86.95400335317387 36.07395438567221, -86.9539480086185 36.07388257279686, -86.95423597974009 36.073712990363525, -86.95460427106983 36.07349716801497, -86.95470543382183 36.07369279031701, -86.95477516692017 36.073863662116366, -86.95487864180328 36.074026574502, -86.95519818472926 36.07448447043898, -86.95533844589661 36.074666870632896, -86.95548652467536 36.07482393464099, -86.95565317740225 36.07506216775781, -86.95574477035935 36.07519330610828, -86.9558005518829 36.07527308153991, -86.95607907086857 36.07561152351611, -86.95621422792132 36.07553820121334, -86.95633593908327 36.07547240225207, -86.9561780992548 36.075263494525394, -86.95604365828585 36.075059071582665, -86.95604055694916 36.07505442381768, -86.95627710331861 36.074942110863276, -86.95627738318926 36.074942487190945, -86.95631365573124 36.07499116279827, -86.9565756605296 36.07534275670214, -86.95660524807738 36.075382904850365, -86.95663551063365 36.07542304853622, -86.95666610850478 36.07546291465543, -86.95669670420781 36.0755025058863, -86.95672797160076 36.075541816880914, -86.95675991732564 36.0755811224839, -86.95679185867215 36.07562015411654, -86.95682447393028 36.07565890549405, -86.95685708921128 36.07569765596117, -86.95689037510412 36.07573585220227, -86.95692399963666 36.075774046647325, -86.95695795836563 36.07581196263093, -86.95699225241243 36.07584960104541, -86.9570272225857 36.07588723498394, -86.95706218727831 36.07592431916014, -86.95709782809004 36.0759613979585, -86.95713346673227 36.07599820186572, -86.95716977818013 36.07603472552263, -86.95720642383557 36.07607097161739, -86.95724340924565 36.0761072159042, -86.95728072555035 36.076142907757074, -86.95731838048904 36.07617859690891, -86.95735636743352 36.076213733617166, -86.95739469300861 36.0762488676241, -86.95743335280518 36.07628372496802, -86.95747268651046 36.07631830114838, -86.95751201694657 36.07635260334531, -86.95755168270234 36.076386627968425, -86.95759168378869 36.07642037591825, -86.95763235767299 36.07645384271166, -86.9576730282888 36.07648703552062, -86.95771403752708 36.07652022472475, -86.95775537878252 36.07655286238311, -86.95779739396794 36.076585220676535, -86.95783940475282 36.07661730319111, -86.95788175418211 36.07664938390189, -86.95792443561716 36.07668091216435, -86.95796745237153 36.0767121628494, -86.95801080444568 36.07674313595685, -86.95805449183902 36.07677383148619, -86.95809817816638 36.07680452790976, -86.9581425350998 36.076834669191996, -86.95818722735167 36.076864532895456, -86.9582319163219 36.076894121710815, -86.95827694061076 36.07692343294633, -86.95832263440413 36.076952189949075, -86.95836832823139 36.076980946934306, -86.95841435737545 36.07700942633901, -86.95846037993346 36.07703735688433, -86.95850707971499 36.07706528112656, -86.95855377290624 36.07709265650898, -86.95860113890843 36.07711975162594, -86.95864850162499 36.07714657185295, -86.95869619966946 36.07717311539818, -86.95874389442903 36.07719938405329, -86.95879226309494 36.07722537153078, -86.95884062518178 36.07725081104878, -86.95888932477925 36.077276246961496, -86.9589383574957 36.07730113131091, -86.95898738580587 36.07732573987657, -86.96003623108817 36.076745978836286, -86.9615287646753 36.075918720727095, -86.9624874062775 36.07705829332496, -86.96317814916253 36.07641982662808, -86.96320022580205 36.07639849662891, -86.96322229910675 36.076376892655354, -86.96324369519434 36.07635529318742, -86.96326508794715 36.07633341974553, -86.96328613986725 36.076311274125274, -86.9633071906654 36.076289128510076, -86.96332756203174 36.076266713422484, -86.96334793005562 36.076244023459815, -86.96336795947909 36.07622133710078, -86.96338765028499 36.076198652542885, -86.96340699693503 36.076175421837554, -86.96342600718785 36.076152467813614, -86.96344501188536 36.07612896493667, -86.96346367797369 36.076105464762584, -86.96348200545357 36.076081967291536, -86.96349998765766 36.07605792278123, -86.96351763460004 36.07603415674692, -86.9635349406995 36.07601011763471, -86.96355190486757 36.075985807256224, -86.96356886901665 36.07596149597417, -86.96358549123403 36.075936913425856, -86.96360143625004 36.07591233628786, -86.96361737901927 36.0758874833663, -86.96363298208531 36.07586263405927, -86.96364824765351 36.07583778744777, -86.96366317129319 36.07581266957074, -86.96367809158026 36.07578727591915, -86.96369233577478 36.07576188767022, -86.96370624026521 36.07573650303618, -86.9637201425109 36.07571084261925, -86.9637333675676 36.07568518851522, -86.96374658927265 36.075659258637145, -86.96375947571754 36.07563360723695, -86.96377201688995 36.075607408799556, -86.96378388197414 36.075581215765766, -86.96379574704928 36.07555502273058, -86.96380727352265 36.07552883240117, -86.96381845806047 36.07550236990641, -86.96382930510521 36.07547591010851, -86.96383981243791 36.075449453025385, -86.96384997894465 36.0754227237684, -86.96385980686122 36.07539599811852, -86.96386963476024 36.07536927156676, -86.9638787832507 36.0753422764493, -86.96388759201993 36.07531528314599, -86.96389605997545 36.07528801857025, -86.96390418933144 36.075260756701134, -86.96391164259386 36.07523349933565, -86.963919094752 36.07520624287973, -86.96392620608677 36.07517871425026, -86.96393297771328 36.07515118833648, -86.96393941185207 36.07512366512076, -86.96394550850216 36.075096144602995, -86.96395126211253 36.07506835192988, -86.96395668157005 36.07504083682609, -86.963961757986 36.075013049566955, -86.96396649691565 36.07498526500583, -86.96397089836005 36.07495748314327, -86.96397495677347 36.074929430026316, -86.96397868102838 36.07490165357791, -86.96398206557747 36.074873879845796, -86.96398510930703 36.07484583394042, -86.96398781556395 36.07481779163492, -86.96399018544106 36.074790026015506, -86.9639925519814 36.074761985524695, -86.96399424245838 36.074733951341045, -86.96399559433168 36.074705918963446, -86.96399660761273 36.074677889293255, -86.96399728342297 36.07464986322281, -86.96399761952085 36.07462183896733, -86.96399761813791 36.074593817410474, -86.96399727817497 36.074565799462185, -86.96399693820133 36.07453778061235, -86.96399592215722 36.07450976716877, -86.9639945664239 36.07448175734242, -86.96399287320061 36.07445374931357, -86.96399084138818 36.07442574399199, -86.9639884709985 36.07439774227881, -86.96398576311931 36.07436974236281, -86.96398305413216 36.07434174245554, -86.96397967241262 36.07431402282551, -86.9639759487819 36.07428603193267, -86.96397188988713 36.07425831771706, -86.96396748907343 36.07423033133723, -86.96396309270663 36.07420261981958, -86.96395801916478 36.07417491371634, -86.96395260704844 36.07414721122146, -86.96394685633602 36.074119510532555, -86.9639411089627 36.07409208471431, -86.96393468218982 36.074064389430255, -86.96404451133525 36.074051972668684, -86.96405904065217 36.07405020799003, -86.96422435275063 36.07403652355398, -86.96435814937469 36.074019245138416, -86.96454296943955 36.073995789084485, -86.96466563763092 36.074511277829004, -86.96467383658228 36.074545551937774, -86.9650989847258 36.0763099610576, -86.96511329394986 36.07637358135602, -86.96246189012689 36.077633757098496, -86.96213449689778 36.077789388391395, -86.95813332497777 36.07969070920494, -86.95607889473706 36.07928065675595, -86.95456340946807 36.07978496000173, -86.95493766552086 36.079584473803166, -86.95511991436892 36.07948660419003, -86.95546121295207 36.07930368515166, -86.9554652476398 36.079301455798536)))\n"
     ]
    }
   ],
   "source": [
    "print(parks.loc[0, 'geometry'])"
   ]
  },
  {
   "cell_type": "code",
   "execution_count": 17,
   "metadata": {},
   "outputs": [
    {
     "data": {
      "text/plain": [
       "<Axes: >"
      ]
     },
     "execution_count": 17,
     "metadata": {},
     "output_type": "execute_result"
    },
    {
     "data": {
      "image/png": "[encoded data removed]",
      "text/plain": [
       "<Figure size 640x480 with 1 Axes>"
      ]
     },
     "metadata": {},
     "output_type": "display_data"
    }
   ],
   "source": [
    "parks.plot()"
   ]
  },
  {
   "cell_type": "code",
   "execution_count": 21,
   "metadata": {},
   "outputs": [
    {
     "data": {
      "image/png": "[encoded data removed]",
      "text/plain": [
       "<Figure size 1000x1000 with 1 Axes>"
      ]
     },
     "metadata": {},
     "output_type": "display_data"
    }
   ],
   "source": [
    "parks.plot(column = 'name', figsize=(10, 10),\n",
    "              edgecolor = 'black',\n",
    "              legend = False,\n",
    "              cmap = 'Set2')\n",
    "plt.show()"
   ]
  },
  {
   "cell_type": "code",
   "execution_count": 23,
   "metadata": {},
   "outputs": [
    {
     "data": {
      "text/plain": [
       "<Geographic 2D CRS: EPSG:4326>\n",
       "Name: WGS 84\n",
       "Axis Info [ellipsoidal]:\n",
       "- Lat[north]: Geodetic latitude (degree)\n",
       "- Lon[east]: Geodetic longitude (degree)\n",
       "Area of Use:\n",
       "- name: World.\n",
       "- bounds: (-180.0, -90.0, 180.0, 90.0)\n",
       "Datum: World Geodetic System 1984 ensemble\n",
       "- Ellipsoid: WGS 84\n",
       "- Prime Meridian: Greenwich"
      ]
     },
     "execution_count": 23,
     "metadata": {},
     "output_type": "execute_result"
    }
   ],
   "source": [
    "parks.crs"
   ]
  },
  {
   "cell_type": "code",
   "execution_count": 24,
   "metadata": {},
   "outputs": [
    {
     "data": {
      "text/plain": [
       "<Geographic 2D CRS: EPSG:4326>\n",
       "Name: WGS 84\n",
       "Axis Info [ellipsoidal]:\n",
       "- Lat[north]: Geodetic latitude (degree)\n",
       "- Lon[east]: Geodetic longitude (degree)\n",
       "Area of Use:\n",
       "- name: World.\n",
       "- bounds: (-180.0, -90.0, 180.0, 90.0)\n",
       "Datum: World Geodetic System 1984 ensemble\n",
       "- Ellipsoid: WGS 84\n",
       "- Prime Meridian: Greenwich"
      ]
     },
     "execution_count": 24,
     "metadata": {},
     "output_type": "execute_result"
    }
   ],
   "source": [
    "water.crs"
   ]
  },
  {
   "cell_type": "code",
   "execution_count": 25,
   "metadata": {},
   "outputs": [
    {
     "name": "stderr",
     "output_type": "stream",
     "text": [
      "c:\\Users\\melan\\anaconda3\\envs\\geospatial\\lib\\site-packages\\IPython\\core\\interactiveshell.py:3445: FutureWarning: The `op` parameter is deprecated and will be removed in a future release. Please use the `predicate` parameter instead.\n",
      "  if await self.run_code(code, result, async_=asy):\n"
     ]
    }
   ],
   "source": [
    "water_by_park = gpd.sjoin(water, parks, op='within')"
   ]
  },
  {
   "cell_type": "code",
   "execution_count": 26,
   "metadata": {},
   "outputs": [
    {
     "data": {
      "text/html": [
       "<div>\n",
       "<style scoped>\n",
       "    .dataframe tbody tr th:only-of-type {\n",
       "        vertical-align: middle;\n",
       "    }\n",
       "\n",
       "    .dataframe tbody tr th {\n",
       "        vertical-align: top;\n",
       "    }\n",
       "\n",
       "    .dataframe thead th {\n",
       "        text-align: right;\n",
       "    }\n",
       "</style>\n",
       "<table border=\"1\" class=\"dataframe\">\n",
       "  <thead>\n",
       "    <tr style=\"text-align: right;\">\n",
       "      <th></th>\n",
       "      <th>name_left</th>\n",
       "      <th>location</th>\n",
       "      <th>dog</th>\n",
       "      <th>objectid</th>\n",
       "      <th>lon_left</th>\n",
       "      <th>ada</th>\n",
       "      <th>cnt</th>\n",
       "      <th>lat_left</th>\n",
       "      <th>feat_type</th>\n",
       "      <th>geometry</th>\n",
       "      <th>index_right</th>\n",
       "      <th>acres</th>\n",
       "      <th>name_right</th>\n",
       "      <th>year_estab</th>\n",
       "      <th>common_nam</th>\n",
       "      <th>status</th>\n",
       "      <th>address</th>\n",
       "      <th>lon_right</th>\n",
       "      <th>lat_right</th>\n",
       "      <th>descriptio</th>\n",
       "    </tr>\n",
       "  </thead>\n",
       "  <tbody>\n",
       "    <tr>\n",
       "      <th>0</th>\n",
       "      <td>Beaman Water Fountain</td>\n",
       "      <td>NaN</td>\n",
       "      <td>Y</td>\n",
       "      <td>45921</td>\n",
       "      <td>36.26250456</td>\n",
       "      <td>Y</td>\n",
       "      <td>1</td>\n",
       "      <td>-86.89425346</td>\n",
       "      <td>Fountain/Bottle filler/ADA</td>\n",
       "      <td>POINT (-86.89425 36.26250)</td>\n",
       "      <td>4</td>\n",
       "      <td>2168.792</td>\n",
       "      <td>Alvin G. Beaman Park</td>\n",
       "      <td>1996</td>\n",
       "      <td>Beaman</td>\n",
       "      <td>PARK</td>\n",
       "      <td>5911 Old Hickory Blvd.</td>\n",
       "      <td>-86.91984207</td>\n",
       "      <td>36.26075833</td>\n",
       "      <td>Beaman Park provides education and awareness p...</td>\n",
       "    </tr>\n",
       "    <tr>\n",
       "      <th>1</th>\n",
       "      <td>Edwin Nature Center Water Fountain</td>\n",
       "      <td>Restrooms Breezeway</td>\n",
       "      <td>N</td>\n",
       "      <td>45937</td>\n",
       "      <td>36.06089915</td>\n",
       "      <td>Y</td>\n",
       "      <td>1</td>\n",
       "      <td>-86.90622747</td>\n",
       "      <td>Bottle Filler/ADA</td>\n",
       "      <td>POINT (-86.90623 36.06090)</td>\n",
       "      <td>5</td>\n",
       "      <td>1113.12</td>\n",
       "      <td>Edwin Warner Park</td>\n",
       "      <td>1937</td>\n",
       "      <td>Edwin Warner</td>\n",
       "      <td>PARK</td>\n",
       "      <td>50 Vaughn Rd</td>\n",
       "      <td>-86.9074396</td>\n",
       "      <td>36.05688279</td>\n",
       "      <td>Edwin Warner Park is a great, multi-recreation...</td>\n",
       "    </tr>\n",
       "    <tr>\n",
       "      <th>29</th>\n",
       "      <td>Edwin Warner Dog Park Water Fountain</td>\n",
       "      <td>Dog Park</td>\n",
       "      <td>Y</td>\n",
       "      <td>46595</td>\n",
       "      <td>36.05195562</td>\n",
       "      <td>N</td>\n",
       "      <td>1</td>\n",
       "      <td>-86.90162012</td>\n",
       "      <td>Dog Only</td>\n",
       "      <td>POINT (-86.90162 36.05196)</td>\n",
       "      <td>5</td>\n",
       "      <td>1113.12</td>\n",
       "      <td>Edwin Warner Park</td>\n",
       "      <td>1937</td>\n",
       "      <td>Edwin Warner</td>\n",
       "      <td>PARK</td>\n",
       "      <td>50 Vaughn Rd</td>\n",
       "      <td>-86.9074396</td>\n",
       "      <td>36.05688279</td>\n",
       "      <td>Edwin Warner Park is a great, multi-recreation...</td>\n",
       "    </tr>\n",
       "    <tr>\n",
       "      <th>30</th>\n",
       "      <td>Edwin Warner Concession Water Fountain</td>\n",
       "      <td>WNSL Concessions</td>\n",
       "      <td>N</td>\n",
       "      <td>46597</td>\n",
       "      <td>36.04998346</td>\n",
       "      <td>Y</td>\n",
       "      <td>1</td>\n",
       "      <td>-86.8981744</td>\n",
       "      <td>Standard/ADA</td>\n",
       "      <td>POINT (-86.89817 36.04998)</td>\n",
       "      <td>5</td>\n",
       "      <td>1113.12</td>\n",
       "      <td>Edwin Warner Park</td>\n",
       "      <td>1937</td>\n",
       "      <td>Edwin Warner</td>\n",
       "      <td>PARK</td>\n",
       "      <td>50 Vaughn Rd</td>\n",
       "      <td>-86.9074396</td>\n",
       "      <td>36.05688279</td>\n",
       "      <td>Edwin Warner Park is a great, multi-recreation...</td>\n",
       "    </tr>\n",
       "    <tr>\n",
       "      <th>69</th>\n",
       "      <td>Harpeth River Greenway</td>\n",
       "      <td>Butler Field Trail Head</td>\n",
       "      <td>Y</td>\n",
       "      <td>0</td>\n",
       "      <td>36.05133033</td>\n",
       "      <td>N</td>\n",
       "      <td>1</td>\n",
       "      <td>-86.91617134</td>\n",
       "      <td>Standard/ADA/Bottle Filler</td>\n",
       "      <td>POINT (-86.91617 36.05133)</td>\n",
       "      <td>5</td>\n",
       "      <td>1113.12</td>\n",
       "      <td>Edwin Warner Park</td>\n",
       "      <td>1937</td>\n",
       "      <td>Edwin Warner</td>\n",
       "      <td>PARK</td>\n",
       "      <td>50 Vaughn Rd</td>\n",
       "      <td>-86.9074396</td>\n",
       "      <td>36.05688279</td>\n",
       "      <td>Edwin Warner Park is a great, multi-recreation...</td>\n",
       "    </tr>\n",
       "  </tbody>\n",
       "</table>\n",
       "</div>"
      ],
      "text/plain": [
       "                                 name_left                 location dog   \n",
       "0                    Beaman Water Fountain                      NaN   Y  \\\n",
       "1       Edwin Nature Center Water Fountain      Restrooms Breezeway   N   \n",
       "29    Edwin Warner Dog Park Water Fountain                 Dog Park   Y   \n",
       "30  Edwin Warner Concession Water Fountain         WNSL Concessions   N   \n",
       "69                  Harpeth River Greenway  Butler Field Trail Head   Y   \n",
       "\n",
       "   objectid     lon_left ada cnt      lat_left                   feat_type   \n",
       "0     45921  36.26250456   Y   1  -86.89425346  Fountain/Bottle filler/ADA  \\\n",
       "1     45937  36.06089915   Y   1  -86.90622747           Bottle Filler/ADA   \n",
       "29    46595  36.05195562   N   1  -86.90162012                    Dog Only   \n",
       "30    46597  36.04998346   Y   1   -86.8981744                Standard/ADA   \n",
       "69        0  36.05133033   N   1  -86.91617134  Standard/ADA/Bottle Filler   \n",
       "\n",
       "                      geometry  index_right     acres            name_right   \n",
       "0   POINT (-86.89425 36.26250)            4  2168.792  Alvin G. Beaman Park  \\\n",
       "1   POINT (-86.90623 36.06090)            5   1113.12     Edwin Warner Park   \n",
       "29  POINT (-86.90162 36.05196)            5   1113.12     Edwin Warner Park   \n",
       "30  POINT (-86.89817 36.04998)            5   1113.12     Edwin Warner Park   \n",
       "69  POINT (-86.91617 36.05133)            5   1113.12     Edwin Warner Park   \n",
       "\n",
       "   year_estab    common_nam status                 address     lon_right   \n",
       "0        1996        Beaman   PARK  5911 Old Hickory Blvd.  -86.91984207  \\\n",
       "1        1937  Edwin Warner   PARK            50 Vaughn Rd   -86.9074396   \n",
       "29       1937  Edwin Warner   PARK            50 Vaughn Rd   -86.9074396   \n",
       "30       1937  Edwin Warner   PARK            50 Vaughn Rd   -86.9074396   \n",
       "69       1937  Edwin Warner   PARK            50 Vaughn Rd   -86.9074396   \n",
       "\n",
       "      lat_right                                         descriptio  \n",
       "0   36.26075833  Beaman Park provides education and awareness p...  \n",
       "1   36.05688279  Edwin Warner Park is a great, multi-recreation...  \n",
       "29  36.05688279  Edwin Warner Park is a great, multi-recreation...  \n",
       "30  36.05688279  Edwin Warner Park is a great, multi-recreation...  \n",
       "69  36.05688279  Edwin Warner Park is a great, multi-recreation...  "
      ]
     },
     "execution_count": 26,
     "metadata": {},
     "output_type": "execute_result"
    }
   ],
   "source": [
    "water_by_park.head()"
   ]
  },
  {
   "cell_type": "code",
   "execution_count": 30,
   "metadata": {},
   "outputs": [
    {
     "data": {
      "text/plain": [
       "name_right\n",
       "Riverfront Park                5\n",
       "Edwin Warner Park              4\n",
       "Cedar Hill                     4\n",
       "Shelby Bottoms Park            3\n",
       "Cane Ridge Park                3\n",
       "Fannie Mae Dees Park           3\n",
       "Shelby Park                    3\n",
       "Two Rivers Park                2\n",
       "Sevier Park                    2\n",
       "McCabe Park                    2\n",
       "Hadley Park                    1\n",
       "Hermitage Park                 1\n",
       "Isaac Litton School Park       1\n",
       "Alvin G. Beaman Park           1\n",
       "Parmer Park                    1\n",
       "Elmington Park                 1\n",
       "E. N. Peeler Park              1\n",
       "Woodmont Park                  1\n",
       "Bellevue Park                  1\n",
       "City Cemetery                  1\n",
       "Ted Rhodes Park                1\n",
       "Fort Negley                    1\n",
       "Bordeaux-Timothy Drive Park    1\n",
       "Elizabeth Park                 1\n",
       "Cumberland Park                1\n",
       "Buena Vista Park               1\n",
       "Bordeaux Garden Park           1\n",
       "Bells Bend Park                1\n",
       "England                        1\n",
       "Seven Oaks Park                1\n",
       "Providence Park                1\n",
       "William Whitfield Park         1\n",
       "Cleveland Park                 1\n",
       "Centennial Park                1\n",
       "Richland Park                  1\n",
       "West Park                      1\n",
       "Percy Warner Park              1\n",
       "Public Square Park             1\n",
       "Name: count, dtype: int64"
      ]
     },
     "execution_count": 30,
     "metadata": {},
     "output_type": "execute_result"
    }
   ],
   "source": [
    "water_by_park['name_right']. value_counts()"
   ]
  },
  {
   "cell_type": "code",
   "execution_count": 33,
   "metadata": {},
   "outputs": [
    {
     "data": {
      "text/html": [
       "<div>\n",
       "<style scoped>\n",
       "    .dataframe tbody tr th:only-of-type {\n",
       "        vertical-align: middle;\n",
       "    }\n",
       "\n",
       "    .dataframe tbody tr th {\n",
       "        vertical-align: top;\n",
       "    }\n",
       "\n",
       "    .dataframe thead th {\n",
       "        text-align: right;\n",
       "    }\n",
       "</style>\n",
       "<table border=\"1\" class=\"dataframe\">\n",
       "  <thead>\n",
       "    <tr style=\"text-align: right;\">\n",
       "      <th></th>\n",
       "      <th>name_left</th>\n",
       "      <th>location</th>\n",
       "      <th>dog</th>\n",
       "      <th>objectid</th>\n",
       "      <th>lon_left</th>\n",
       "      <th>ada</th>\n",
       "      <th>cnt</th>\n",
       "      <th>lat_left</th>\n",
       "      <th>feat_type</th>\n",
       "      <th>geometry</th>\n",
       "      <th>index_right</th>\n",
       "      <th>acres</th>\n",
       "      <th>name_right</th>\n",
       "      <th>year_estab</th>\n",
       "      <th>common_nam</th>\n",
       "      <th>status</th>\n",
       "      <th>address</th>\n",
       "      <th>lon_right</th>\n",
       "      <th>lat_right</th>\n",
       "      <th>descriptio</th>\n",
       "    </tr>\n",
       "  </thead>\n",
       "  <tbody>\n",
       "    <tr>\n",
       "      <th>21</th>\n",
       "      <td>Ascend Amphiteater Water Fountain</td>\n",
       "      <td>Building</td>\n",
       "      <td>N</td>\n",
       "      <td>46586</td>\n",
       "      <td>36.1589887</td>\n",
       "      <td>N</td>\n",
       "      <td>1</td>\n",
       "      <td>-86.77188799</td>\n",
       "      <td>Standard/ADA/Bottle Filler</td>\n",
       "      <td>POINT (-86.77189 36.15899)</td>\n",
       "      <td>184</td>\n",
       "      <td>12.54</td>\n",
       "      <td>Riverfront Park</td>\n",
       "      <td>2015</td>\n",
       "      <td>Ascend Amphitheater</td>\n",
       "      <td>PARK</td>\n",
       "      <td>310 1st Ave S</td>\n",
       "      <td>-86.771861</td>\n",
       "      <td>36.160147</td>\n",
       "      <td>NaN</td>\n",
       "    </tr>\n",
       "    <tr>\n",
       "      <th>44</th>\n",
       "      <td>Ascend Fitness Area Water Fountain</td>\n",
       "      <td>Fitness Area</td>\n",
       "      <td>N</td>\n",
       "      <td>46633</td>\n",
       "      <td>36.15935444</td>\n",
       "      <td>N</td>\n",
       "      <td>1</td>\n",
       "      <td>-86.77052029</td>\n",
       "      <td>Standard/ADA/Bottle Filler</td>\n",
       "      <td>POINT (-86.77052 36.15935)</td>\n",
       "      <td>184</td>\n",
       "      <td>12.54</td>\n",
       "      <td>Riverfront Park</td>\n",
       "      <td>2015</td>\n",
       "      <td>Ascend Amphitheater</td>\n",
       "      <td>PARK</td>\n",
       "      <td>310 1st Ave S</td>\n",
       "      <td>-86.771861</td>\n",
       "      <td>36.160147</td>\n",
       "      <td>NaN</td>\n",
       "    </tr>\n",
       "    <tr>\n",
       "      <th>45</th>\n",
       "      <td>Acend Dog Park Water Fountain</td>\n",
       "      <td>Dog Park</td>\n",
       "      <td>Y</td>\n",
       "      <td>46634</td>\n",
       "      <td>36.16105409</td>\n",
       "      <td>N</td>\n",
       "      <td>1</td>\n",
       "      <td>-86.77310593</td>\n",
       "      <td>Standard/ADA/Bottle Filler</td>\n",
       "      <td>POINT (-86.77311 36.16105)</td>\n",
       "      <td>184</td>\n",
       "      <td>12.54</td>\n",
       "      <td>Riverfront Park</td>\n",
       "      <td>2015</td>\n",
       "      <td>Ascend Amphitheater</td>\n",
       "      <td>PARK</td>\n",
       "      <td>310 1st Ave S</td>\n",
       "      <td>-86.771861</td>\n",
       "      <td>36.160147</td>\n",
       "      <td>NaN</td>\n",
       "    </tr>\n",
       "    <tr>\n",
       "      <th>46</th>\n",
       "      <td>Acend Dog Park Water Fountain</td>\n",
       "      <td>Dog Park</td>\n",
       "      <td>Y</td>\n",
       "      <td>46635</td>\n",
       "      <td>36.16093199</td>\n",
       "      <td>N</td>\n",
       "      <td>1</td>\n",
       "      <td>-86.77307034</td>\n",
       "      <td>Standard/ADA/Bottle Filler</td>\n",
       "      <td>POINT (-86.77307 36.16093)</td>\n",
       "      <td>184</td>\n",
       "      <td>12.54</td>\n",
       "      <td>Riverfront Park</td>\n",
       "      <td>2015</td>\n",
       "      <td>Ascend Amphitheater</td>\n",
       "      <td>PARK</td>\n",
       "      <td>310 1st Ave S</td>\n",
       "      <td>-86.771861</td>\n",
       "      <td>36.160147</td>\n",
       "      <td>NaN</td>\n",
       "    </tr>\n",
       "    <tr>\n",
       "      <th>71</th>\n",
       "      <td>Ascend Amphiteater Water Fountain</td>\n",
       "      <td>Building</td>\n",
       "      <td>N</td>\n",
       "      <td>0</td>\n",
       "      <td>36.16014227</td>\n",
       "      <td>N</td>\n",
       "      <td>1</td>\n",
       "      <td>-86.77120998</td>\n",
       "      <td>Standard/ADA/Bottle Filler</td>\n",
       "      <td>POINT (-86.77121 36.16014)</td>\n",
       "      <td>184</td>\n",
       "      <td>12.54</td>\n",
       "      <td>Riverfront Park</td>\n",
       "      <td>2015</td>\n",
       "      <td>Ascend Amphitheater</td>\n",
       "      <td>PARK</td>\n",
       "      <td>310 1st Ave S</td>\n",
       "      <td>-86.771861</td>\n",
       "      <td>36.160147</td>\n",
       "      <td>NaN</td>\n",
       "    </tr>\n",
       "  </tbody>\n",
       "</table>\n",
       "</div>"
      ],
      "text/plain": [
       "                             name_left      location dog objectid   \n",
       "21   Ascend Amphiteater Water Fountain      Building   N    46586  \\\n",
       "44  Ascend Fitness Area Water Fountain  Fitness Area   N    46633   \n",
       "45       Acend Dog Park Water Fountain      Dog Park   Y    46634   \n",
       "46       Acend Dog Park Water Fountain      Dog Park   Y    46635   \n",
       "71   Ascend Amphiteater Water Fountain      Building   N        0   \n",
       "\n",
       "       lon_left ada cnt      lat_left                   feat_type   \n",
       "21   36.1589887   N   1  -86.77188799  Standard/ADA/Bottle Filler  \\\n",
       "44  36.15935444   N   1  -86.77052029  Standard/ADA/Bottle Filler   \n",
       "45  36.16105409   N   1  -86.77310593  Standard/ADA/Bottle Filler   \n",
       "46  36.16093199   N   1  -86.77307034  Standard/ADA/Bottle Filler   \n",
       "71  36.16014227   N   1  -86.77120998  Standard/ADA/Bottle Filler   \n",
       "\n",
       "                      geometry  index_right  acres       name_right   \n",
       "21  POINT (-86.77189 36.15899)          184  12.54  Riverfront Park  \\\n",
       "44  POINT (-86.77052 36.15935)          184  12.54  Riverfront Park   \n",
       "45  POINT (-86.77311 36.16105)          184  12.54  Riverfront Park   \n",
       "46  POINT (-86.77307 36.16093)          184  12.54  Riverfront Park   \n",
       "71  POINT (-86.77121 36.16014)          184  12.54  Riverfront Park   \n",
       "\n",
       "   year_estab           common_nam status        address   lon_right   \n",
       "21       2015  Ascend Amphitheater   PARK  310 1st Ave S  -86.771861  \\\n",
       "44       2015  Ascend Amphitheater   PARK  310 1st Ave S  -86.771861   \n",
       "45       2015  Ascend Amphitheater   PARK  310 1st Ave S  -86.771861   \n",
       "46       2015  Ascend Amphitheater   PARK  310 1st Ave S  -86.771861   \n",
       "71       2015  Ascend Amphitheater   PARK  310 1st Ave S  -86.771861   \n",
       "\n",
       "    lat_right descriptio  \n",
       "21  36.160147        NaN  \n",
       "44  36.160147        NaN  \n",
       "45  36.160147        NaN  \n",
       "46  36.160147        NaN  \n",
       "71  36.160147        NaN  "
      ]
     },
     "execution_count": 33,
     "metadata": {},
     "output_type": "execute_result"
    }
   ],
   "source": [
    "water_in_riverfront = water_by_park.loc[water_by_park['name_right'] == 'Riverfront Park']\n",
    "water_in_riverfront.shape\n",
    "water_in_riverfront.head()"
   ]
  },
  {
   "cell_type": "code",
   "execution_count": 32,
   "metadata": {},
   "outputs": [
    {
     "data": {
      "text/plain": [
       "(4, 10)"
      ]
     },
     "execution_count": 32,
     "metadata": {},
     "output_type": "execute_result"
    }
   ],
   "source": [
    "polygonriverfront = parks.loc[parks['name'] == 'Riverfront Park']\n",
    "polygonriverfront.shape"
   ]
  },
  {
   "cell_type": "code",
   "execution_count": 35,
   "metadata": {},
   "outputs": [
    {
     "data": {
      "image/png": "[encoded data removed]",
      "text/plain": [
       "<Figure size 800x1000 with 1 Axes>"
      ]
     },
     "metadata": {},
     "output_type": "display_data"
    }
   ],
   "source": [
    "ax = polygonriverfront.plot(figsize = (8, 10), color = 'lightblue')\n",
    "water_in_riverfront.plot (ax = ax, column = 'location');\n",
    "plt.show()"
   ]
  },
  {
   "cell_type": "code",
   "execution_count": 36,
   "metadata": {},
   "outputs": [
    {
     "name": "stderr",
     "output_type": "stream",
     "text": [
      "C:\\Users\\melan\\AppData\\Local\\Temp\\ipykernel_12836\\3043177243.py:1: UserWarning: Geometry is in a geographic CRS. Results from 'centroid' are likely incorrect. Use 'GeoSeries.to_crs()' to re-project geometries to a projected CRS before this operation.\n",
      "\n",
      "  polygonriverfront.geometry.centroid\n"
     ]
    },
    {
     "data": {
      "text/plain": [
       "53     POINT (-86.77611 36.16584)\n",
       "55     POINT (-86.77530 36.16424)\n",
       "59     POINT (-86.77404 36.16256)\n",
       "184    POINT (-86.77175 36.16015)\n",
       "dtype: geometry"
      ]
     },
     "execution_count": 36,
     "metadata": {},
     "output_type": "execute_result"
    }
   ],
   "source": [
    "polygonriverfront.geometry.centroid"
   ]
  },
  {
   "cell_type": "code",
   "execution_count": 37,
   "metadata": {},
   "outputs": [
    {
     "name": "stdout",
     "output_type": "stream",
     "text": [
      "POINT (-86.77175483423353 36.160149070720415)\n"
     ]
    },
    {
     "name": "stderr",
     "output_type": "stream",
     "text": [
      "C:\\Users\\melan\\AppData\\Local\\Temp\\ipykernel_12836\\1915521075.py:1: UserWarning: Geometry is in a geographic CRS. Results from 'centroid' are likely incorrect. Use 'GeoSeries.to_crs()' to re-project geometries to a projected CRS before this operation.\n",
      "\n",
      "  center = polygonriverfront.geometry.centroid[184]\n"
     ]
    }
   ],
   "source": [
    "center = polygonriverfront.geometry.centroid[184]\n",
    "print(center)"
   ]
  },
  {
   "cell_type": "code",
   "execution_count": 38,
   "metadata": {},
   "outputs": [
    {
     "name": "stdout",
     "output_type": "stream",
     "text": [
      "[36.160149070720415, -86.77175483423353]\n"
     ]
    }
   ],
   "source": [
    "area_center = [center.y, center.x]\n",
    "print(area_center)"
   ]
  },
  {
   "cell_type": "code",
   "execution_count": 58,
   "metadata": {},
   "outputs": [
    {
     "data": {
      "text/html": [
       "<div style=\"width:100%;\"><div style=\"position:relative;width:100%;height:0;padding-bottom:60%;\"><span style=\"color:#565656\">Make this Notebook Trusted to load map: File -> Trust Notebook</span><iframe srcdoc=\"&lt;!DOCTYPE html&gt;\n",
       "&lt;html&gt;\n",
       "&lt;head&gt;\n",
       "    \n",
       "    &lt;meta http-equiv=&quot;content-type&quot; content=&quot;text/html; charset=UTF-8&quot; /&gt;\n",
       "    \n",
       "        &lt;script&gt;\n",
       "            L_NO_TOUCH = false;\n",
       "            L_DISABLE_3D = false;\n",
       "        &lt;/script&gt;\n",
       "    \n",
       "    &lt;style&gt;html, body {width: 100%;height: 100%;margin: 0;padding: 0;}&lt;/style&gt;\n",
       "    &lt;style&gt;#map {position:absolute;top:0;bottom:0;right:0;left:0;}&lt;/style&gt;\n",
       "    &lt;script src=&quot;https://cdn.jsdelivr.net/npm/leaflet@1.9.3/dist/leaflet.js&quot;&gt;&lt;/script&gt;\n",
       "    &lt;script src=&quot;https://code.jquery.com/jquery-1.12.4.min.js&quot;&gt;&lt;/script&gt;\n",
       "    &lt;script src=&quot;https://cdn.jsdelivr.net/npm/bootstrap@5.2.2/dist/js/bootstrap.bundle.min.js&quot;&gt;&lt;/script&gt;\n",
       "    &lt;script src=&quot;https://cdnjs.cloudflare.com/ajax/libs/Leaflet.awesome-markers/2.0.2/leaflet.awesome-markers.js&quot;&gt;&lt;/script&gt;\n",
       "    &lt;link rel=&quot;stylesheet&quot; href=&quot;https://cdn.jsdelivr.net/npm/leaflet@1.9.3/dist/leaflet.css&quot;/&gt;\n",
       "    &lt;link rel=&quot;stylesheet&quot; href=&quot;https://cdn.jsdelivr.net/npm/bootstrap@5.2.2/dist/css/bootstrap.min.css&quot;/&gt;\n",
       "    &lt;link rel=&quot;stylesheet&quot; href=&quot;https://netdna.bootstrapcdn.com/bootstrap/3.0.0/css/bootstrap.min.css&quot;/&gt;\n",
       "    &lt;link rel=&quot;stylesheet&quot; href=&quot;https://cdn.jsdelivr.net/npm/@fortawesome/fontawesome-free@6.2.0/css/all.min.css&quot;/&gt;\n",
       "    &lt;link rel=&quot;stylesheet&quot; href=&quot;https://cdnjs.cloudflare.com/ajax/libs/Leaflet.awesome-markers/2.0.2/leaflet.awesome-markers.css&quot;/&gt;\n",
       "    &lt;link rel=&quot;stylesheet&quot; href=&quot;https://cdn.jsdelivr.net/gh/python-visualization/folium/folium/templates/leaflet.awesome.rotate.min.css&quot;/&gt;\n",
       "    \n",
       "            &lt;meta name=&quot;viewport&quot; content=&quot;width=device-width,\n",
       "                initial-scale=1.0, maximum-scale=1.0, user-scalable=no&quot; /&gt;\n",
       "            &lt;style&gt;\n",
       "                #map_8a95cb97afdd95f28f8ed6d8655c5dca {\n",
       "                    position: relative;\n",
       "                    width: 100.0%;\n",
       "                    height: 100.0%;\n",
       "                    left: 0.0%;\n",
       "                    top: 0.0%;\n",
       "                }\n",
       "                .leaflet-container { font-size: 1rem; }\n",
       "            &lt;/style&gt;\n",
       "        \n",
       "&lt;/head&gt;\n",
       "&lt;body&gt;\n",
       "    \n",
       "    \n",
       "            &lt;div class=&quot;folium-map&quot; id=&quot;map_8a95cb97afdd95f28f8ed6d8655c5dca&quot; &gt;&lt;/div&gt;\n",
       "        \n",
       "&lt;/body&gt;\n",
       "&lt;script&gt;\n",
       "    \n",
       "    \n",
       "            var map_8a95cb97afdd95f28f8ed6d8655c5dca = L.map(\n",
       "                &quot;map_8a95cb97afdd95f28f8ed6d8655c5dca&quot;,\n",
       "                {\n",
       "                    center: [36.160149070720415, -86.77175483423353],\n",
       "                    crs: L.CRS.EPSG3857,\n",
       "                    zoom: 18,\n",
       "                    zoomControl: true,\n",
       "                    preferCanvas: false,\n",
       "                }\n",
       "            );\n",
       "\n",
       "            \n",
       "\n",
       "        \n",
       "    \n",
       "            var tile_layer_ecb12de43d15f4b266e95dd1a09aa80f = L.tileLayer(\n",
       "                &quot;https://{s}.tile.openstreetmap.org/{z}/{x}/{y}.png&quot;,\n",
       "                {&quot;attribution&quot;: &quot;Data by \\u0026copy; \\u003ca target=\\&quot;_blank\\&quot; href=\\&quot;http://openstreetmap.org\\&quot;\\u003eOpenStreetMap\\u003c/a\\u003e, under \\u003ca target=\\&quot;_blank\\&quot; href=\\&quot;http://www.openstreetmap.org/copyright\\&quot;\\u003eODbL\\u003c/a\\u003e.&quot;, &quot;detectRetina&quot;: false, &quot;maxNativeZoom&quot;: 18, &quot;maxZoom&quot;: 18, &quot;minZoom&quot;: 0, &quot;noWrap&quot;: false, &quot;opacity&quot;: 1, &quot;subdomains&quot;: &quot;abc&quot;, &quot;tms&quot;: false}\n",
       "            ).addTo(map_8a95cb97afdd95f28f8ed6d8655c5dca);\n",
       "        \n",
       "&lt;/script&gt;\n",
       "&lt;/html&gt;\" style=\"position:absolute;width:100%;height:100%;left:0;top:0;border:none !important;\" allowfullscreen webkitallowfullscreen mozallowfullscreen></iframe></div></div>"
      ],
      "text/plain": [
       "<folium.folium.Map at 0x21c3deadbd0>"
      ]
     },
     "execution_count": 58,
     "metadata": {},
     "output_type": "execute_result"
    }
   ],
   "source": [
    "map_riverfront = folium.Map(location = area_center, zoom_start = 18)\n",
    "map_riverfront"
   ]
  },
  {
   "cell_type": "code",
   "execution_count": 51,
   "metadata": {},
   "outputs": [
    {
     "name": "stdout",
     "output_type": "stream",
     "text": [
      "index is 21\n",
      "values_are:\n",
      " \n",
      "name_left                 Ascend Amphiteater Water Fountain\n",
      "location                                           Building\n",
      "dog                                                       N\n",
      "objectid                                              46586\n",
      "lon_left                                         36.1589887\n",
      "ada                                                       N\n",
      "cnt                                                       1\n",
      "lat_left                                       -86.77188799\n",
      "feat_type                        Standard/ADA/Bottle Filler\n",
      "geometry       POINT (-86.77188799128072 36.15898870023951)\n",
      "index_right                                             184\n",
      "acres                                                 12.54\n",
      "name_right                                  Riverfront Park\n",
      "year_estab                                             2015\n",
      "common_nam                              Ascend Amphitheater\n",
      "status                                                 PARK\n",
      "address                                       310 1st Ave S\n",
      "lon_right                                        -86.771861\n",
      "lat_right                                         36.160147\n",
      "descriptio                                              NaN\n",
      "Name: 21, dtype: object\n",
      "-----------------------\n",
      "index is 44\n",
      "values_are:\n",
      " \n",
      "name_left                Ascend Fitness Area Water Fountain\n",
      "location                                       Fitness Area\n",
      "dog                                                       N\n",
      "objectid                                              46633\n",
      "lon_left                                        36.15935444\n",
      "ada                                                       N\n",
      "cnt                                                       1\n",
      "lat_left                                       -86.77052029\n",
      "feat_type                        Standard/ADA/Bottle Filler\n",
      "geometry       POINT (-86.77052028735707 36.15935443644061)\n",
      "index_right                                             184\n",
      "acres                                                 12.54\n",
      "name_right                                  Riverfront Park\n",
      "year_estab                                             2015\n",
      "common_nam                              Ascend Amphitheater\n",
      "status                                                 PARK\n",
      "address                                       310 1st Ave S\n",
      "lon_right                                        -86.771861\n",
      "lat_right                                         36.160147\n",
      "descriptio                                              NaN\n",
      "Name: 44, dtype: object\n",
      "-----------------------\n",
      "index is 45\n",
      "values_are:\n",
      " \n",
      "name_left                      Acend Dog Park Water Fountain\n",
      "location                                            Dog Park\n",
      "dog                                                        Y\n",
      "objectid                                               46634\n",
      "lon_left                                         36.16105409\n",
      "ada                                                        N\n",
      "cnt                                                        1\n",
      "lat_left                                        -86.77310593\n",
      "feat_type                         Standard/ADA/Bottle Filler\n",
      "geometry       POINT (-86.77310593163244 36.161054088206114)\n",
      "index_right                                              184\n",
      "acres                                                  12.54\n",
      "name_right                                   Riverfront Park\n",
      "year_estab                                              2015\n",
      "common_nam                               Ascend Amphitheater\n",
      "status                                                  PARK\n",
      "address                                        310 1st Ave S\n",
      "lon_right                                         -86.771861\n",
      "lat_right                                          36.160147\n",
      "descriptio                                               NaN\n",
      "Name: 45, dtype: object\n",
      "-----------------------\n"
     ]
    }
   ],
   "source": [
    "i = 0\n",
    "for row_index, row_values in water_in_riverfront.iterrows():\n",
    "    if i <3:\n",
    "        print('index is', row_index)\n",
    "        print('values_are:')\n",
    "        print(' ')\n",
    "        print(row_values)\n",
    "        print('-----------------------')\n",
    "        i+=1"
   ]
  },
  {
   "cell_type": "code",
   "execution_count": 67,
   "metadata": {},
   "outputs": [
    {
     "name": "stdout",
     "output_type": "stream",
     "text": [
      "<class 'geopandas.geodataframe.GeoDataFrame'>\n",
      "Index: 5 entries, 21 to 71\n",
      "Data columns (total 20 columns):\n",
      " #   Column       Non-Null Count  Dtype   \n",
      "---  ------       --------------  -----   \n",
      " 0   name_left    5 non-null      object  \n",
      " 1   location     5 non-null      object  \n",
      " 2   dog          5 non-null      object  \n",
      " 3   objectid     5 non-null      object  \n",
      " 4   lon_left     5 non-null      float64 \n",
      " 5   ada          5 non-null      object  \n",
      " 6   cnt          5 non-null      object  \n",
      " 7   lat_left     5 non-null      float64 \n",
      " 8   feat_type    5 non-null      object  \n",
      " 9   geometry     5 non-null      geometry\n",
      " 10  index_right  5 non-null      int64   \n",
      " 11  acres        5 non-null      object  \n",
      " 12  name_right   5 non-null      object  \n",
      " 13  year_estab   5 non-null      object  \n",
      " 14  common_nam   5 non-null      object  \n",
      " 15  status       5 non-null      object  \n",
      " 16  address      5 non-null      object  \n",
      " 17  lon_right    5 non-null      object  \n",
      " 18  lat_right    5 non-null      object  \n",
      " 19  descriptio   0 non-null      object  \n",
      "dtypes: float64(2), geometry(1), int64(1), object(16)\n",
      "memory usage: 840.0+ bytes\n"
     ]
    },
    {
     "name": "stderr",
     "output_type": "stream",
     "text": [
      "c:\\Users\\melan\\anaconda3\\envs\\geospatial\\lib\\site-packages\\geopandas\\geodataframe.py:1443: SettingWithCopyWarning: \n",
      "A value is trying to be set on a copy of a slice from a DataFrame.\n",
      "Try using .loc[row_indexer,col_indexer] = value instead\n",
      "\n",
      "See the caveats in the documentation: https://pandas.pydata.org/pandas-docs/stable/user_guide/indexing.html#returning-a-view-versus-a-copy\n",
      "  super().__setitem__(key, value)\n",
      "c:\\Users\\melan\\anaconda3\\envs\\geospatial\\lib\\site-packages\\geopandas\\geodataframe.py:1443: SettingWithCopyWarning: \n",
      "A value is trying to be set on a copy of a slice from a DataFrame.\n",
      "Try using .loc[row_indexer,col_indexer] = value instead\n",
      "\n",
      "See the caveats in the documentation: https://pandas.pydata.org/pandas-docs/stable/user_guide/indexing.html#returning-a-view-versus-a-copy\n",
      "  super().__setitem__(key, value)\n"
     ]
    }
   ],
   "source": [
    "water_in_riverfront['lat_left'] = water_in_riverfront['lat_left'].astype(float)\n",
    "water_in_riverfront['lon_left'] = water_in_riverfront['lon_left'].astype(float)\n",
    "water_in_riverfront.info()"
   ]
  },
  {
   "cell_type": "code",
   "execution_count": 68,
   "metadata": {},
   "outputs": [
    {
     "data": {
      "text/html": [
       "<div style=\"width:100%;\"><div style=\"position:relative;width:100%;height:0;padding-bottom:60%;\"><span style=\"color:#565656\">Make this Notebook Trusted to load map: File -> Trust Notebook</span><iframe srcdoc=\"&lt;!DOCTYPE html&gt;\n",
       "&lt;html&gt;\n",
       "&lt;head&gt;\n",
       "    \n",
       "    &lt;meta http-equiv=&quot;content-type&quot; content=&quot;text/html; charset=UTF-8&quot; /&gt;\n",
       "    \n",
       "        &lt;script&gt;\n",
       "            L_NO_TOUCH = false;\n",
       "            L_DISABLE_3D = false;\n",
       "        &lt;/script&gt;\n",
       "    \n",
       "    &lt;style&gt;html, body {width: 100%;height: 100%;margin: 0;padding: 0;}&lt;/style&gt;\n",
       "    &lt;style&gt;#map {position:absolute;top:0;bottom:0;right:0;left:0;}&lt;/style&gt;\n",
       "    &lt;script src=&quot;https://cdn.jsdelivr.net/npm/leaflet@1.9.3/dist/leaflet.js&quot;&gt;&lt;/script&gt;\n",
       "    &lt;script src=&quot;https://code.jquery.com/jquery-1.12.4.min.js&quot;&gt;&lt;/script&gt;\n",
       "    &lt;script src=&quot;https://cdn.jsdelivr.net/npm/bootstrap@5.2.2/dist/js/bootstrap.bundle.min.js&quot;&gt;&lt;/script&gt;\n",
       "    &lt;script src=&quot;https://cdnjs.cloudflare.com/ajax/libs/Leaflet.awesome-markers/2.0.2/leaflet.awesome-markers.js&quot;&gt;&lt;/script&gt;\n",
       "    &lt;link rel=&quot;stylesheet&quot; href=&quot;https://cdn.jsdelivr.net/npm/leaflet@1.9.3/dist/leaflet.css&quot;/&gt;\n",
       "    &lt;link rel=&quot;stylesheet&quot; href=&quot;https://cdn.jsdelivr.net/npm/bootstrap@5.2.2/dist/css/bootstrap.min.css&quot;/&gt;\n",
       "    &lt;link rel=&quot;stylesheet&quot; href=&quot;https://netdna.bootstrapcdn.com/bootstrap/3.0.0/css/bootstrap.min.css&quot;/&gt;\n",
       "    &lt;link rel=&quot;stylesheet&quot; href=&quot;https://cdn.jsdelivr.net/npm/@fortawesome/fontawesome-free@6.2.0/css/all.min.css&quot;/&gt;\n",
       "    &lt;link rel=&quot;stylesheet&quot; href=&quot;https://cdnjs.cloudflare.com/ajax/libs/Leaflet.awesome-markers/2.0.2/leaflet.awesome-markers.css&quot;/&gt;\n",
       "    &lt;link rel=&quot;stylesheet&quot; href=&quot;https://cdn.jsdelivr.net/gh/python-visualization/folium/folium/templates/leaflet.awesome.rotate.min.css&quot;/&gt;\n",
       "    \n",
       "            &lt;meta name=&quot;viewport&quot; content=&quot;width=device-width,\n",
       "                initial-scale=1.0, maximum-scale=1.0, user-scalable=no&quot; /&gt;\n",
       "            &lt;style&gt;\n",
       "                #map_9eefdb9557e12340b30346d183ce8e1a {\n",
       "                    position: relative;\n",
       "                    width: 100.0%;\n",
       "                    height: 100.0%;\n",
       "                    left: 0.0%;\n",
       "                    top: 0.0%;\n",
       "                }\n",
       "                .leaflet-container { font-size: 1rem; }\n",
       "            &lt;/style&gt;\n",
       "        \n",
       "&lt;/head&gt;\n",
       "&lt;body&gt;\n",
       "    \n",
       "    \n",
       "            &lt;div class=&quot;folium-map&quot; id=&quot;map_9eefdb9557e12340b30346d183ce8e1a&quot; &gt;&lt;/div&gt;\n",
       "        \n",
       "&lt;/body&gt;\n",
       "&lt;script&gt;\n",
       "    \n",
       "    \n",
       "            var map_9eefdb9557e12340b30346d183ce8e1a = L.map(\n",
       "                &quot;map_9eefdb9557e12340b30346d183ce8e1a&quot;,\n",
       "                {\n",
       "                    center: [36.160149070720415, -86.77175483423353],\n",
       "                    crs: L.CRS.EPSG3857,\n",
       "                    zoom: 16,\n",
       "                    zoomControl: true,\n",
       "                    preferCanvas: false,\n",
       "                }\n",
       "            );\n",
       "\n",
       "            \n",
       "\n",
       "        \n",
       "    \n",
       "            var tile_layer_b5a5ebb00c05efacb5e1a97ea9ffad93 = L.tileLayer(\n",
       "                &quot;https://{s}.tile.openstreetmap.org/{z}/{x}/{y}.png&quot;,\n",
       "                {&quot;attribution&quot;: &quot;Data by \\u0026copy; \\u003ca target=\\&quot;_blank\\&quot; href=\\&quot;http://openstreetmap.org\\&quot;\\u003eOpenStreetMap\\u003c/a\\u003e, under \\u003ca target=\\&quot;_blank\\&quot; href=\\&quot;http://www.openstreetmap.org/copyright\\&quot;\\u003eODbL\\u003c/a\\u003e.&quot;, &quot;detectRetina&quot;: false, &quot;maxNativeZoom&quot;: 18, &quot;maxZoom&quot;: 18, &quot;minZoom&quot;: 0, &quot;noWrap&quot;: false, &quot;opacity&quot;: 1, &quot;subdomains&quot;: &quot;abc&quot;, &quot;tms&quot;: false}\n",
       "            ).addTo(map_9eefdb9557e12340b30346d183ce8e1a);\n",
       "        \n",
       "    \n",
       "\n",
       "        function geo_json_b4c181e8efbb3ec689372dfe72475230_onEachFeature(feature, layer) {\n",
       "            layer.on({\n",
       "            });\n",
       "        };\n",
       "        var geo_json_b4c181e8efbb3ec689372dfe72475230 = L.geoJson(null, {\n",
       "                onEachFeature: geo_json_b4c181e8efbb3ec689372dfe72475230_onEachFeature,\n",
       "            \n",
       "        });\n",
       "\n",
       "        function geo_json_b4c181e8efbb3ec689372dfe72475230_add (data) {\n",
       "            geo_json_b4c181e8efbb3ec689372dfe72475230\n",
       "                .addData(data)\n",
       "                .addTo(map_9eefdb9557e12340b30346d183ce8e1a);\n",
       "        }\n",
       "            geo_json_b4c181e8efbb3ec689372dfe72475230_add({&quot;bbox&quot;: [-86.77709519979663, 36.158663672451816, -86.77006593833076, 36.16727100119817], &quot;features&quot;: [{&quot;bbox&quot;: [-86.77709519979663, 36.16439381681683, -86.77517963186895, 36.16727100119817], &quot;geometry&quot;: {&quot;coordinates&quot;: [[[[-86.77610507868664, 36.16662595445998], [-86.77609461379369, 36.16659913060705], [-86.77608413006541, 36.16657231228186], [-86.77607362860684, 36.16654549857586], [-86.77606311051818, 36.166518688580844], [-86.77605257248288, 36.16649188412061], [-86.77604201782869, 36.16646508427252], [-86.77603144544202, 36.1664382890437], [-86.7760208542032, 36.166411497540054], [-86.77601024524147, 36.16638471155701], [-86.7759996185472, 36.16635793019317], [-86.77598897412194, 36.1663311534486], [-86.77597831085443, 36.16630438133039], [-86.7759676309657, 36.166277613824334], [-86.77595693224275, 36.166250851845845], [-86.77594621577916, 36.16622409358536], [-86.77593548158404, 36.16619733994422], [-86.77592472965732, 36.1661705909223], [-86.77578172069164, 36.16581988571652], [-86.77563803612395, 36.165469183757054], [-86.7756283096512, 36.16544100320897], [-86.77561799433181, 36.16541296073298], [-86.77560709136606, 36.16538506533417], [-86.77559560415908, 36.16535732420046], [-86.7755835361165, 36.165329744519994], [-86.77557089178023, 36.165302336177405], [-86.77555767344569, 36.16527510636789], [-86.77554388563856, 36.16524806317361], [-86.77552953176155, 36.165221213782594], [-86.77551461745458, 36.165194566269996], [-86.77549914502677, 36.16516812963339], [-86.77548312008855, 36.165141909244014], [-86.77546654716748, 36.16511591318411], [-86.77545094407401, 36.16509054718648], [-86.77543547274756, 36.165065128967775], [-86.77542013206653, 36.165039657633976], [-86.77540492316284, 36.16501413498052], [-86.77538984493101, 36.164988561915685], [-86.77537489957696, 36.16496293662289], [-86.77536008490347, 36.164937261820185], [-86.77534540312615, 36.16491153659184], [-86.77533085426236, 36.16488576274066], [-86.77531643830173, 36.1648599393654], [-86.77530215525358, 36.16483406736709], [-86.77528800400655, 36.164808146753124], [-86.77527398791182, 36.16478217930461], [-86.77526010585942, 36.1647561650286], [-86.77524635672737, 36.16473010303102], [-86.77523274164493, 36.16470399510731], [-86.77521926283491, 36.164677841243396], [-86.77520591697242, 36.164651642361456], [-86.7751927062718, 36.16462539754641], [-86.77517963186895, 36.1645991094949], [-86.77566343509464, 36.16439381681683], [-86.77599369859516, 36.164908692279894], [-86.77596566148826, 36.164924392389615], [-86.77593926332237, 36.16494186106041], [-86.77591467305092, 36.16496098544979], [-86.77589204731422, 36.16498164378184], [-86.7758715326356, 36.16500370262935], [-86.7758532599082, 36.16502702145529], [-86.77583734550092, 36.1650514517043], [-86.77582389235312, 36.16507683589513], [-86.77581298556342, 36.165103010351686], [-86.77580469686657, 36.1651298087803], [-86.77579907682794, 36.16515705961539], [-86.77579616374315, 36.165184586863695], [-86.77579597479028, 36.16521221466778], [-86.77579851380388, 36.16523976635418], [-86.77580376016621, 36.16526706540681], [-86.77581168326309, 36.16529393627436], [-86.77582223251187, 36.165320207139665], [-86.77583332238116, 36.16534629427488], [-86.77584473591055, 36.16537228920149], [-86.77585647196554, 36.16539818922293], [-86.77586853051704, 36.16542399163556], [-86.77588090932784, 36.165449694650896], [-86.77589360724915, 36.16547529467136], [-86.7759066220408, 36.16550078990874], [-86.775919953679, 36.165526177659274], [-86.77593360211755, 36.165551453416576], [-86.7759475618092, 36.165576618117704], [-86.7759618360355, 36.16560166633385], [-86.77597642034223, 36.16562659719224], [-86.7759913135829, 36.16565140709497], [-86.7760065157402, 36.16567609423961], [-86.77602202344471, 36.165700655042585], [-86.77603783668714, 36.16572508860256], [-86.77605395209154, 36.16574939043492], [-86.77607036965587, 36.16577356053931], [-86.77608708711418, 36.16579759442397], [-86.77604930095836, 36.16581377001645], [-86.77612295784844, 36.16593197002521], [-86.77614076893964, 36.16595644479961], [-86.77615825918969, 36.16598107124527], [-86.77617542857192, 36.166005846658436], [-86.77619227372591, 36.16603076835726], [-86.77620879239305, 36.16605583275103], [-86.776224983435, 36.16608103714374], [-86.77624084460265, 36.166106378845875], [-86.77625637475776, 36.16613185516135], [-86.77627157165081, 36.16615746340079], [-86.77628643191146, 36.166183199980985], [-86.77630095774576, 36.16620906308527], [-86.77631514468045, 36.16623505003879], [-86.77632899267054, 36.1662611563355], [-86.77634249836618, 36.16628738019458], [-86.77635566172955, 36.166313718011466], [-86.77636848052063, 36.166340167997845], [-86.77638095358357, 36.16636672565521], [-86.77639308089972, 36.16639338918093], [-86.77629389661524, 36.16643633180082], [-86.77639305296658, 36.16659832067759], [-86.77649765677927, 36.166555343112485], [-86.77654798728561, 36.16671325048676], [-86.77655707496862, 36.166740960997046], [-86.77656645325695, 36.16676860835049], [-86.77657612322547, 36.166796188934924], [-86.77658608264349, 36.16682370186348], [-86.77659633149385, 36.16685114533368], [-86.77660686974124, 36.16687851574047], [-86.77661769516348, 36.16690581309822], [-86.77662880772515, 36.166933033801875], [-86.77664020741777, 36.166960176950326], [-86.77665189088884, 36.16698724076232], [-86.77666386033754, 36.167014222519974], [-86.77667611351238, 36.16704111953383], [-86.77668864818179, 36.16706793091693], [-86.77670146544212, 36.16709465485961], [-86.77668190331951, 36.16710357171483], [-86.7766929422151, 36.16712382878548], [-86.77635102212356, 36.16727100119817], [-86.77634081572141, 36.16724414416304], [-86.77633076425012, 36.167217216732766], [-86.7763206950463, 36.167190293921884], [-86.77631060699926, 36.16716337573756], [-86.77630050233043, 36.16713646216552], [-86.77629037881073, 36.16710955231869], [-86.77628023755734, 36.16708264709137], [-86.77627007747036, 36.16705574739176], [-86.776259899633, 36.167028850509084], [-86.77624970518384, 36.16700195913997], [-86.7762394907795, 36.166975072404355], [-86.77622925975378, 36.166948190281055], [-86.77621900987658, 36.16692131188302], [-86.77620874338805, 36.166894438998305], [-86.77619845693512, 36.166867569846275], [-86.77618815386164, 36.16684070530627], [-86.77617783305605, 36.1668138453857], [-86.77616749230445, 36.166786990999874], [-86.776157136026, 36.16676013941677], [-86.77614675980065, 36.166733293368395], [-86.77613636695558, 36.16670645193226], [-86.7761259552681, 36.166679615122646], [-86.776115525839, 36.16665278203113], [-86.77610507868664, 36.16662595445998]]], [[[-86.7769161214833, 36.166976798805706], [-86.7769039983379, 36.166949680167505], [-86.77689255588042, 36.166922832934794], [-86.77688110962924, 36.16689571083817], [-86.77687000236791, 36.16686858565725], [-86.77685923253235, 36.16684118431768], [-86.77684880058365, 36.1668137808023], [-86.7768383675316, 36.16678637729288], [-86.77682861357702, 36.1667589694116], [-86.77681885962849, 36.16673156152932], [-86.77680944087584, 36.16670387660191], [-86.77680002324031, 36.166676191666284], [-86.77679128247868, 36.166648502373626], [-86.77673540198832, 36.16647744525461], [-86.77672564698729, 36.16645003646863], [-86.776715554134, 36.166422631658506], [-86.77670546015796, 36.166395225052064], [-86.77669469314351, 36.166368099465174], [-86.77668324703095, 36.16634097644471], [-86.7766718020466, 36.16631385431698], [-86.77666002077152, 36.16628700923879], [-86.77664789939799, 36.166260165446644], [-86.77663510227936, 36.166233326001375], [-86.77662230674737, 36.16620676143124], [-86.77660883706109, 36.1661804769857], [-86.7765953646831, 36.16615391676761], [-86.77658121972127, 36.16612791064926], [-86.77656673420243, 36.16610163183353], [-86.77655225027142, 36.16607562789253], [-86.77653709217746, 36.16604990317409], [-86.77652159510673, 36.166024180634516], [-86.77650576174011, 36.165998734242166], [-86.77648959051734, 36.16597329092247], [-86.77647341707329, 36.165947846713564], [-86.7764565716995, 36.165922682613164], [-86.77643938780788, 36.16589779467373], [-86.77642186605202, 36.16587290890526], [-86.77640400912283, 36.16584830017716], [-86.77639507204667, 36.16583517210797], [-86.7763864712621, 36.1658217660866], [-86.77637854846158, 36.16580835660469], [-86.77637129715364, 36.16579439393032], [-86.77636472381002, 36.16578042599314], [-86.77635848834389, 36.165766455882135], [-86.77635326445845, 36.1657519294901], [-86.77634837957005, 36.16573740181853], [-86.7763445105183, 36.16572286671114], [-86.7763409777739, 36.165708055454914], [-86.77633984637879, 36.16569625070577], [-86.77633939183411, 36.165684440701824], [-86.77633995425408, 36.16567262505759], [-86.77634153250926, 36.16566080197778], [-86.77634378763169, 36.16564897544549], [-86.77634706238887, 36.165637416339955], [-86.77635135678948, 36.16562612556265], [-86.77635632962627, 36.16561510530805], [-86.77636232052693, 36.165604078504444], [-86.77636899366279, 36.165593597085916], [-86.77637335144286, 36.16558889868008], [-86.77637907322921, 36.16558501616074], [-86.77638548373346, 36.16558222785728], [-86.77639224174692, 36.16558053596443], [-86.77639969228777, 36.16558021405113], [-86.77640681727246, 36.165581266863825], [-86.77641361290938, 36.16558342044114], [-86.77641974355724, 36.16558667784371], [-86.77642486531032, 36.16559076549582], [-86.77642864298335, 36.16559596044072], [-86.7768359504721, 36.166227913737345], [-86.77682517944393, 36.16623512471489], [-86.77689465930338, 36.166341813995764], [-86.77690879902487, 36.166367270336615], [-86.77692293764292, 36.16639272668288], [-86.7769364032178, 36.166418463148126], [-86.77694986767159, 36.16644419781633], [-86.77696265417431, 36.16646993864965], [-86.77697544447936, 36.16649595344272], [-86.77698755681452, 36.16652197259876], [-86.7769996718492, 36.166548266623], [-86.77701111002544, 36.16657456500329], [-86.77702254709851, 36.16660086338951], [-86.77703330731164, 36.16662716613211], [-86.77704407022314, 36.166653743743105], [-86.77705449683496, 36.16668059750373], [-86.77706424278298, 36.1667071807587], [-86.77707399254948, 36.16673403977633], [-86.77708306322245, 36.166760902263974], [-86.77708936614282, 36.1667817395661], [-86.77709329613603, 36.16680259214583], [-86.77709519979663, 36.16682400754551], [-86.77709439486178, 36.16684543948293], [-86.77709155219026, 36.16686661055455], [-86.77708633610652, 36.16688752111882], [-86.77707908292544, 36.16690789592579], [-86.77706945143196, 36.16692773717188], [-86.77705744225838, 36.16694676906438], [-86.77704373006826, 36.16696498906172], [-86.77703075398428, 36.166954633209876], [-86.77692824193721, 36.16700364167166], [-86.7769161214833, 36.166976798805706]]], [[[-86.77605015142503, 36.165051263320365], [-86.77607080015696, 36.16503291410412], [-86.77633496734086, 36.16543997931037], [-86.77631302067608, 36.16545143229879], [-86.77629220840205, 36.16546420375292], [-86.77627265428136, 36.165478219874664], [-86.77625446867198, 36.165493399742004], [-86.77623775742478, 36.16550965615283], [-86.77622261742849, 36.16552689475291], [-86.77620913662793, 36.16554501583747], [-86.77619739180977, 36.16556391526745], [-86.77618745081692, 36.16558348355346], [-86.77617937255579, 36.16560360675733], [-86.7761626962418, 36.165578323461254], [-86.77614645272607, 36.16555285532341], [-86.77613064428166, 36.16552720773675], [-86.77611527428886, 36.16550138518627], [-86.7761003472453, 36.165475393050635], [-86.77608586430682, 36.16544923582899], [-86.77607182885882, 36.16542291890729], [-86.77605824205632, 36.16539644678471], [-86.7760451095196, 36.165369825734004], [-86.77603243239354, 36.165343059353226], [-86.77602021184138, 36.16531615304231], [-86.77600845127014, 36.16528911399], [-86.77599715291738, 36.1652619439843], [-86.77599018297383, 36.1652377554844], [-86.77598645956907, 36.16521309908151], [-86.7759860255127, 36.16518826110398], [-86.77598888694894, 36.165163529017065], [-86.77599501000863, 36.16513919054293], [-86.77600432296266, 36.165115526436836], [-86.77601671956168, 36.165092810465836], [-86.7760320545493, 36.16507130583193], [-86.77605015142503, 36.165051263320365]]]], &quot;type&quot;: &quot;MultiPolygon&quot;}, &quot;id&quot;: &quot;53&quot;, &quot;properties&quot;: {&quot;acres&quot;: &quot;3.49&quot;, &quot;address&quot;: &quot;170 1st Ave N&quot;, &quot;common_nam&quot;: &quot;Bicentennial&quot;, &quot;descriptio&quot;: &quot;Known as Metro Riverfront Park, it is one of Nashville\\u0027s outdoor entertainment venues, residing between the Cumberland River and the city\\u0027s downtown area. The Historic Fort Nashborough is located within the park, as well as a grassy seating area where pe&quot;, &quot;lat&quot;: &quot;36.17&quot;, &quot;lon&quot;: &quot;-86.78&quot;, &quot;name&quot;: &quot;Riverfront Park&quot;, &quot;status&quot;: &quot;PARK&quot;, &quot;year_estab&quot;: &quot;1977&quot;}, &quot;type&quot;: &quot;Feature&quot;}, {&quot;bbox&quot;: [-86.77566343506822, 36.16382987529275, -86.7750017220812, 36.164599109502035], &quot;geometry&quot;: {&quot;coordinates&quot;: [[[[-86.77506254313275, 36.164265816995915], [-86.77505639720277, 36.164260637215925], [-86.7750505815493, 36.164254905540616], [-86.77504544117927, 36.16424889554277], [-86.77504097607505, 36.16424260542018], [-86.77503718245745, 36.16423576211251], [-86.77503406902319, 36.16422891443698], [-86.7750319642836, 36.16422178539694], [-86.77503020074701, 36.16421465416574], [-86.77502945304613, 36.16420751731253], [-86.77502938060927, 36.16420010033471], [-86.77502931891033, 36.16419378283605], [-86.77502858035596, 36.164187468782565], [-86.77502750440487, 36.164181432683904], [-86.77502541104674, 36.16417512733035], [-86.77502298296714, 36.164169373900165], [-86.77501987805122, 36.16416362571749], [-86.77501609516892, 36.16415788098697], [-86.7750116408098, 36.16415269034218], [-86.77500684903677, 36.164147775849614], [-86.7750017220812, 36.16414313839629], [-86.77509682258004, 36.164098574603784], [-86.77518837865345, 36.16382987529275], [-86.77521938179802, 36.16388241751778], [-86.77530777655349, 36.16384504098446], [-86.77557881189087, 36.164262500498374], [-86.77566343506822, 36.164393814113204], [-86.77517963075749, 36.164599109502035], [-86.77517857199311, 36.16459472081436], [-86.7751771769332, 36.16459060917346], [-86.77517577918802, 36.16458622266299], [-86.7751740451479, 36.16458211319925], [-86.77517230775621, 36.1645780019545], [-86.77517023808751, 36.16457389644895], [-86.7751681650673, 36.16456978916244], [-86.77516609204719, 36.1645656818757], [-86.77516368606607, 36.1645618516145], [-86.77516093554745, 36.16455802356605], [-86.77515715799639, 36.164552827678875], [-86.77515372011165, 36.16454735832827], [-86.77515095346774, 36.16454187925855], [-86.77514819018417, 36.16453640287119], [-86.77514610107342, 36.164530648168046], [-86.77514435093542, 36.16452489038675], [-86.77514259811271, 36.16451885773551], [-86.77514152482462, 36.16451309560703], [-86.7751411268217, 36.16450705515578], [-86.77514072992017, 36.16450101379609], [-86.77514066821213, 36.16449469629802], [-86.77514026751578, 36.164488380075724], [-86.77513952784683, 36.164482066931704], [-86.77513845028388, 36.164475753254166], [-86.77513703378406, 36.16446944625948], [-86.77513494198344, 36.16446341578519], [-86.77513284750678, 36.16445711134232], [-86.77513008154259, 36.164451360084634], [-86.77512731179121, 36.16444533486544], [-86.77512386786772, 36.16443958796165], [-86.77511905035149, 36.16443192657176], [-86.77511457182474, 36.16442426390581], [-86.77511042848276, 36.16441632420008], [-86.77510696309243, 36.164408379239006], [-86.77510383400617, 36.16440015813221], [-86.77510138177026, 36.164391932678534], [-86.77509926583744, 36.16438343107936], [-86.77509748887663, 36.164374926401905], [-86.77509638987577, 36.164366417370445], [-86.77509596772269, 36.16435790399215], [-86.77509519697162, 36.16434829420587], [-86.7750940861295, 36.164338686603635], [-86.77509229844014, 36.16432908334816], [-86.77508983390359, 36.164319484439375], [-86.77508669298187, 36.164310164761346], [-86.77508287632496, 36.16430084942277], [-86.77507872225308, 36.164291810236584], [-86.77507389356822, 36.164282776283855], [-86.77506838783893, 36.16427429555159], [-86.77506254313275, 36.164265816995915]]]], &quot;type&quot;: &quot;MultiPolygon&quot;}, &quot;id&quot;: &quot;55&quot;, &quot;properties&quot;: {&quot;acres&quot;: &quot;0.66&quot;, &quot;address&quot;: &quot;170 1st Ave N&quot;, &quot;common_nam&quot;: &quot;Fort Nashborough&quot;, &quot;descriptio&quot;: &quot;Nashville, TN, was founded on January 1, 1780, when James Robertson and other pioneers traveled across the frozen Cumberland River to, what was once called, The Cedar Bluffs. Today, a replica of Fort Nashborough stands on that location in the Riverfront&quot;, &quot;lat&quot;: &quot;36.1642387&quot;, &quot;lon&quot;: &quot;-86.77530476&quot;, &quot;name&quot;: &quot;Riverfront Park&quot;, &quot;status&quot;: &quot;PARK&quot;, &quot;year_estab&quot;: &quot;1930&quot;}, &quot;type&quot;: &quot;Feature&quot;}, {&quot;bbox&quot;: [-86.775307776536, 36.16128323954945, -86.77274369003693, 36.16414313839629], &quot;geometry&quot;: {&quot;coordinates&quot;: [[[[-86.77518837865345, 36.16382987529275], [-86.77509682258004, 36.164098574603784], [-86.7750017220812, 36.16414313839629], [-86.77356002249319, 36.16248931001122], [-86.77274369003693, 36.1618044746753], [-86.7731310309886, 36.161504759848604], [-86.7731365100115, 36.161510768662055], [-86.77366209177056, 36.16128323954945], [-86.775307776536, 36.16384503918203], [-86.77521938179802, 36.16388241751778], [-86.77518837865345, 36.16382987529275]]]], &quot;type&quot;: &quot;MultiPolygon&quot;}, &quot;id&quot;: &quot;59&quot;, &quot;properties&quot;: {&quot;acres&quot;: &quot;5.29&quot;, &quot;address&quot;: &quot;100 1st Ave South&quot;, &quot;common_nam&quot;: &quot;Riverfront&quot;, &quot;descriptio&quot;: &quot;Riverfront Park is located on the west bank of the Cumberland River on First Avenue North in downtown Nashville.  The park has grass and concrete terraces that provide excellent views of the Cumberland River and the Tennessee Titans Stadium.  In summer a&quot;, &quot;lat&quot;: &quot;36.16255994&quot;, &quot;lon&quot;: &quot;-86.77404464&quot;, &quot;name&quot;: &quot;Riverfront Park&quot;, &quot;status&quot;: &quot;PARK&quot;, &quot;year_estab&quot;: &quot;1983&quot;}, &quot;type&quot;: &quot;Feature&quot;}, {&quot;bbox&quot;: [-86.77344171569986, 36.158663672451816, -86.77006593833076, 36.161671786281495], &quot;geometry&quot;: {&quot;coordinates&quot;: [[[[-86.77215370281853, 36.161299009714156], [-86.77074309308293, 36.160645188925926], [-86.77029789999756, 36.16040638655099], [-86.7703784814779, 36.16037488576711], [-86.77038588080319, 36.160371779552236], [-86.77079714105422, 36.16019914400693], [-86.77085388934762, 36.16017532267553], [-86.7700748376804, 36.159750045866524], [-86.77006593833076, 36.15974518767637], [-86.77011671132644, 36.15964940359789], [-86.77017448024507, 36.159556262632954], [-86.77023903688381, 36.15946610042884], [-86.77031014858152, 36.159379241897156], [-86.77038755905754, 36.159296000043355], [-86.77047098933542, 36.15921667483879], [-86.77056086110416, 36.159140979172236], [-86.77065621323328, 36.159069829377344], [-86.7707566966799, 36.15900348589233], [-86.77080913548204, 36.15908879507318], [-86.77153457941967, 36.15879427311494], [-86.7718562596531, 36.158663672451816], [-86.77187554810021, 36.15869420932083], [-86.77195380731061, 36.158818106677685], [-86.7723396221722, 36.15942891149805], [-86.77234043573634, 36.1594302002788], [-86.772343928657, 36.15943573045246], [-86.7724168442092, 36.15955116521486], [-86.77274995829231, 36.16007852585559], [-86.77287250943377, 36.16027253793893], [-86.77344171569986, 36.16117363776355], [-86.77301577321187, 36.16135770571625], [-86.77283215244182, 36.1615008213168], [-86.77279046454895, 36.16153331316262], [-86.77274142189793, 36.16157153681226], [-86.77259980362956, 36.161671786281495], [-86.77215370281853, 36.161299009714156]]]], &quot;type&quot;: &quot;MultiPolygon&quot;}, &quot;id&quot;: &quot;184&quot;, &quot;properties&quot;: {&quot;acres&quot;: &quot;12.54&quot;, &quot;address&quot;: &quot;310 1st Ave S&quot;, &quot;common_nam&quot;: &quot;Ascend Amphitheater&quot;, &quot;descriptio&quot;: null, &quot;lat&quot;: &quot;36.160147&quot;, &quot;lon&quot;: &quot;-86.771861&quot;, &quot;name&quot;: &quot;Riverfront Park&quot;, &quot;status&quot;: &quot;PARK&quot;, &quot;year_estab&quot;: &quot;2015&quot;}, &quot;type&quot;: &quot;Feature&quot;}], &quot;type&quot;: &quot;FeatureCollection&quot;});\n",
       "\n",
       "        \n",
       "    \n",
       "            var marker_44e2cfa9e25a52dee6255e1e4ee531c5 = L.marker(\n",
       "                [-86.77188799, 36.1589887],\n",
       "                {}\n",
       "            ).addTo(map_9eefdb9557e12340b30346d183ce8e1a);\n",
       "        \n",
       "    \n",
       "            var icon_a8aba907ca0cde423b1af126dd13725e = L.AwesomeMarkers.icon(\n",
       "                {&quot;extraClasses&quot;: &quot;fa-rotate-0&quot;, &quot;icon&quot;: &quot;paw&quot;, &quot;iconColor&quot;: &quot;white&quot;, &quot;markerColor&quot;: &quot;blue&quot;, &quot;prefix&quot;: &quot;fa&quot;}\n",
       "            );\n",
       "            marker_44e2cfa9e25a52dee6255e1e4ee531c5.setIcon(icon_a8aba907ca0cde423b1af126dd13725e);\n",
       "        \n",
       "    \n",
       "        var popup_f45b52670e191c0594a51349b8d3ea48 = L.popup({&quot;maxWidth&quot;: &quot;100%&quot;});\n",
       "\n",
       "        \n",
       "            \n",
       "                var html_37ee997b7e5c5ae859ca0b5d3e8cd8f8 = $(`&lt;div id=&quot;html_37ee997b7e5c5ae859ca0b5d3e8cd8f8&quot; style=&quot;width: 100.0%; height: 100.0%;&quot;&gt;Ascend Amphiteater Water Fountain&lt;/div&gt;`)[0];\n",
       "                popup_f45b52670e191c0594a51349b8d3ea48.setContent(html_37ee997b7e5c5ae859ca0b5d3e8cd8f8);\n",
       "            \n",
       "        \n",
       "\n",
       "        marker_44e2cfa9e25a52dee6255e1e4ee531c5.bindPopup(popup_f45b52670e191c0594a51349b8d3ea48)\n",
       "        ;\n",
       "\n",
       "        \n",
       "    \n",
       "    \n",
       "            var marker_b91ae0e9be9b74a8a49c8ee4fb93a949 = L.marker(\n",
       "                [-86.77052029, 36.15935444],\n",
       "                {}\n",
       "            ).addTo(map_9eefdb9557e12340b30346d183ce8e1a);\n",
       "        \n",
       "    \n",
       "            var icon_b0d13c973bc23367c6e6e8c0824dda22 = L.AwesomeMarkers.icon(\n",
       "                {&quot;extraClasses&quot;: &quot;fa-rotate-0&quot;, &quot;icon&quot;: &quot;paw&quot;, &quot;iconColor&quot;: &quot;white&quot;, &quot;markerColor&quot;: &quot;blue&quot;, &quot;prefix&quot;: &quot;fa&quot;}\n",
       "            );\n",
       "            marker_b91ae0e9be9b74a8a49c8ee4fb93a949.setIcon(icon_b0d13c973bc23367c6e6e8c0824dda22);\n",
       "        \n",
       "    \n",
       "        var popup_3187db195d3b855c06221fe5798b1594 = L.popup({&quot;maxWidth&quot;: &quot;100%&quot;});\n",
       "\n",
       "        \n",
       "            \n",
       "                var html_07a935b56706fba44f01c068122b5674 = $(`&lt;div id=&quot;html_07a935b56706fba44f01c068122b5674&quot; style=&quot;width: 100.0%; height: 100.0%;&quot;&gt;Ascend Fitness Area Water Fountain&lt;/div&gt;`)[0];\n",
       "                popup_3187db195d3b855c06221fe5798b1594.setContent(html_07a935b56706fba44f01c068122b5674);\n",
       "            \n",
       "        \n",
       "\n",
       "        marker_b91ae0e9be9b74a8a49c8ee4fb93a949.bindPopup(popup_3187db195d3b855c06221fe5798b1594)\n",
       "        ;\n",
       "\n",
       "        \n",
       "    \n",
       "    \n",
       "            var marker_8dc3331c399c0f07e7c6800a23d9f440 = L.marker(\n",
       "                [-86.77310593, 36.16105409],\n",
       "                {}\n",
       "            ).addTo(map_9eefdb9557e12340b30346d183ce8e1a);\n",
       "        \n",
       "    \n",
       "            var icon_c52fb8f0049bdc0a2fa10a416d091811 = L.AwesomeMarkers.icon(\n",
       "                {&quot;extraClasses&quot;: &quot;fa-rotate-0&quot;, &quot;icon&quot;: &quot;paw&quot;, &quot;iconColor&quot;: &quot;white&quot;, &quot;markerColor&quot;: &quot;blue&quot;, &quot;prefix&quot;: &quot;fa&quot;}\n",
       "            );\n",
       "            marker_8dc3331c399c0f07e7c6800a23d9f440.setIcon(icon_c52fb8f0049bdc0a2fa10a416d091811);\n",
       "        \n",
       "    \n",
       "        var popup_1e1b5a031ecbaaf08bd0d45ef6944cd7 = L.popup({&quot;maxWidth&quot;: &quot;100%&quot;});\n",
       "\n",
       "        \n",
       "            \n",
       "                var html_410e2511b0ab0d936df5aff8b98feacb = $(`&lt;div id=&quot;html_410e2511b0ab0d936df5aff8b98feacb&quot; style=&quot;width: 100.0%; height: 100.0%;&quot;&gt;Acend Dog Park Water Fountain&lt;/div&gt;`)[0];\n",
       "                popup_1e1b5a031ecbaaf08bd0d45ef6944cd7.setContent(html_410e2511b0ab0d936df5aff8b98feacb);\n",
       "            \n",
       "        \n",
       "\n",
       "        marker_8dc3331c399c0f07e7c6800a23d9f440.bindPopup(popup_1e1b5a031ecbaaf08bd0d45ef6944cd7)\n",
       "        ;\n",
       "\n",
       "        \n",
       "    \n",
       "    \n",
       "            var marker_cddaa2f65b187e30432ccc972d9d6a30 = L.marker(\n",
       "                [-86.77307034, 36.16093199],\n",
       "                {}\n",
       "            ).addTo(map_9eefdb9557e12340b30346d183ce8e1a);\n",
       "        \n",
       "    \n",
       "            var icon_3d21fee9d93b64e97b184de6232e05ca = L.AwesomeMarkers.icon(\n",
       "                {&quot;extraClasses&quot;: &quot;fa-rotate-0&quot;, &quot;icon&quot;: &quot;paw&quot;, &quot;iconColor&quot;: &quot;white&quot;, &quot;markerColor&quot;: &quot;blue&quot;, &quot;prefix&quot;: &quot;fa&quot;}\n",
       "            );\n",
       "            marker_cddaa2f65b187e30432ccc972d9d6a30.setIcon(icon_3d21fee9d93b64e97b184de6232e05ca);\n",
       "        \n",
       "    \n",
       "        var popup_bed1e43f6353e638575a00c064fc3988 = L.popup({&quot;maxWidth&quot;: &quot;100%&quot;});\n",
       "\n",
       "        \n",
       "            \n",
       "                var html_2d56cf7b377e7899903a9ad46dc613f4 = $(`&lt;div id=&quot;html_2d56cf7b377e7899903a9ad46dc613f4&quot; style=&quot;width: 100.0%; height: 100.0%;&quot;&gt;Acend Dog Park Water Fountain&lt;/div&gt;`)[0];\n",
       "                popup_bed1e43f6353e638575a00c064fc3988.setContent(html_2d56cf7b377e7899903a9ad46dc613f4);\n",
       "            \n",
       "        \n",
       "\n",
       "        marker_cddaa2f65b187e30432ccc972d9d6a30.bindPopup(popup_bed1e43f6353e638575a00c064fc3988)\n",
       "        ;\n",
       "\n",
       "        \n",
       "    \n",
       "    \n",
       "            var marker_e6620aab4284172e4b6373cae2e19e3f = L.marker(\n",
       "                [-86.77120998, 36.16014227],\n",
       "                {}\n",
       "            ).addTo(map_9eefdb9557e12340b30346d183ce8e1a);\n",
       "        \n",
       "    \n",
       "            var icon_87343e2f3fa8b8f35b390ea8b63ba5b1 = L.AwesomeMarkers.icon(\n",
       "                {&quot;extraClasses&quot;: &quot;fa-rotate-0&quot;, &quot;icon&quot;: &quot;paw&quot;, &quot;iconColor&quot;: &quot;white&quot;, &quot;markerColor&quot;: &quot;blue&quot;, &quot;prefix&quot;: &quot;fa&quot;}\n",
       "            );\n",
       "            marker_e6620aab4284172e4b6373cae2e19e3f.setIcon(icon_87343e2f3fa8b8f35b390ea8b63ba5b1);\n",
       "        \n",
       "    \n",
       "        var popup_797a0dd412d83d3e38b28dc9d2107eb4 = L.popup({&quot;maxWidth&quot;: &quot;100%&quot;});\n",
       "\n",
       "        \n",
       "            \n",
       "                var html_5341726007aae828d0ecdc2d781dfe8d = $(`&lt;div id=&quot;html_5341726007aae828d0ecdc2d781dfe8d&quot; style=&quot;width: 100.0%; height: 100.0%;&quot;&gt;Ascend Amphiteater Water Fountain&lt;/div&gt;`)[0];\n",
       "                popup_797a0dd412d83d3e38b28dc9d2107eb4.setContent(html_5341726007aae828d0ecdc2d781dfe8d);\n",
       "            \n",
       "        \n",
       "\n",
       "        marker_e6620aab4284172e4b6373cae2e19e3f.bindPopup(popup_797a0dd412d83d3e38b28dc9d2107eb4)\n",
       "        ;\n",
       "\n",
       "        \n",
       "    \n",
       "&lt;/script&gt;\n",
       "&lt;/html&gt;\" style=\"position:absolute;width:100%;height:100%;left:0;top:0;border:none !important;\" allowfullscreen webkitallowfullscreen mozallowfullscreen></iframe></div></div>"
      ],
      "text/plain": [
       "<folium.folium.Map at 0x21c3ec4e530>"
      ]
     },
     "execution_count": 68,
     "metadata": {},
     "output_type": "execute_result"
    }
   ],
   "source": [
    "map_riverfront = folium.Map(location = area_center, zoom_start = 16)\n",
    "folium.GeoJson(polygonriverfront).add_to(map_riverfront)\n",
    "\n",
    "for row_index, row_values in water_in_riverfront.iterrows():\n",
    "    loc = [row_values['lat_left'], row_values['lon_left']]\n",
    "    pop = str(row_values['name_left'])\n",
    "    icon=folium.Icon(color=\"blue\",icon=\"paw\", prefix='fa')\n",
    "\n",
    "    marker = folium.Marker(\n",
    "        location = loc,\n",
    "        popup = pop, icon = icon)\n",
    "    \n",
    "    marker.add_to(map_riverfront)\n",
    "map_riverfront.save('../maps/mapsriverfront.html')\n",
    "\n",
    "map_riverfront"
   ]
  },
  {
   "cell_type": "code",
   "execution_count": null,
   "metadata": {},
   "outputs": [],
   "source": []
  }
 ],
 "metadata": {
  "kernelspec": {
   "display_name": "geospatial",
   "language": "python",
   "name": "python3"
  },
  "language_info": {
   "codemirror_mode": {
    "name": "ipython",
    "version": 3
   },
   "file_extension": ".py",
   "mimetype": "text/x-python",
   "name": "python",
   "nbconvert_exporter": "python",
   "pygments_lexer": "ipython3",
   "version": "3.10.10"
  },
  "orig_nbformat": 4
 },
 "nbformat": 4,
 "nbformat_minor": 2
}
